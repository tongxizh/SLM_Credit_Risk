{
 "cells": [
  {
   "cell_type": "code",
   "execution_count": 1,
   "id": "331ffa6d",
   "metadata": {},
   "outputs": [
    {
     "name": "stdout",
     "output_type": "stream",
     "text": [
      "2.0.2\n"
     ]
    }
   ],
   "source": [
    "import numpy as np \n",
    "import pandas as pd \n",
    "print(pd.__version__)"
   ]
  },
  {
   "cell_type": "markdown",
   "id": "9fdd0542",
   "metadata": {},
   "source": [
    "# Time data basic concepts\n",
    "Time is a unique concept that poses challenges in handling and calculations compared to numerical values. For example, time is not represented in a specific base like numbers are. For instance, minutes and seconds follow a base-60 system, while hours and days follow a base-24 system. Additionally, there are irregularities such as the varying number of days in a month (28 to 31 days) and the seven-day week. These complexities make time handling more complicated."
   ]
  },
  {
   "cell_type": "markdown",
   "id": "540a0313",
   "metadata": {},
   "source": [
    "## Fixed times\n",
    "Fixed times refers to specific points in time that are not part of recurring cycles or patterns. These are independent time points that do not occur regularly. Examples of fixed time points include specific dates like \"January 1, 2020,\" events like \"New Year's Eve,\" or moments like \"12:00 PM on a particular day.\"\n",
    "\n",
    "Fixed times have specific attributes associated with them, such as the year, month, day, hour, minute, second, and millisecond. These attributes provide information about when the fixed time occurs in relation to the overall timeline. By considering these attributes, we can determine the exact position of the fixed time within the broader context of time."
   ]
  },
  {
   "cell_type": "markdown",
   "id": "a2afacda",
   "metadata": {},
   "source": [
    "## Unix timestamp\n",
    "A timestamp, specifically Unix timestamp, refers to the total number of seconds elapsed since January 1, 1970, at 00:00:00 UTC (Coordinated Universal Time). It is a large numeric value that continuously increases by one second increments. For example, the timestamp 1591684854 represents the time 2020/6/9 14:40:54 in Beijing time.\n",
    "\n",
    "To represent time before the year 1970, negative numbers are used. For instance, the timestamp -1591684957 represents the time 1919/7/26 2:17:23. By using negative timestamps, time points before the Unix epoch (January 1, 1970) can be accurately represented."
   ]
  },
  {
   "cell_type": "markdown",
   "id": "c262a32d",
   "metadata": {},
   "source": [
    "## Time Deltas \n",
    "A time delta represents a duration or difference between two time points. It represents a specific length of time without specifying a specific start or end time. For example, if a song has a duration of 4 minutes, it will always be 4 minutes long regardless of when it is played.\n",
    "\n",
    "Time deltas are useful for measuring durations, calculating time differences, or performing arithmetic operations on time-related data. They can be expressed in different units, such as seconds, minutes, hours, days, etc., and can be added, subtracted, or compared to other time deltas or time points."
   ]
  },
  {
   "cell_type": "markdown",
   "id": "580f6a73",
   "metadata": {},
   "source": [
    "## Formatting time\n",
    "Formatting time in a specific format, such as converting a timestamp or a date string to a desired format like \"2023年07月05日\" in Chinese, can be achieved using the `strftime()` method in Python."
   ]
  },
  {
   "cell_type": "markdown",
   "id": "7b08575c",
   "metadata": {},
   "source": [
    "## Periodic time\n",
    "Periodic time refers to time intervals that have a defined start and end, and follow a recurring pattern based on a specific time unit. It represents events or activities that occur repeatedly within a given timeframe.\n",
    "\n",
    "For example, let's consider the workweek cycle. It starts when you graduate from college and begin working, and it ends when you retire at the age of 65. In this case, the time unit is a week, and the pattern is from Monday to Friday, working days.\n"
   ]
  },
  {
   "cell_type": "markdown",
   "id": "209ce810",
   "metadata": {},
   "source": [
    "## Date offsets\n",
    "Date offsets are used to shift or move dates based on a specific frequency or unit of time. They allow us to perform operations such as adding or subtracting time intervals from dates based on predefined frequencies.\n",
    "\n",
    "For example, if the frequency is set to hours, a date offset of three would mean shifting the date by three hours. Similarly, if the frequency is set to a workweek, a date offset of one workweek would be equivalent to shifting the date by one week based on the defined workweek schedule.\n",
    "\n",
    "Date offsets provide flexibility in manipulating dates and aligning them with specific frequencies or custom-defined periods. They allow for easy calculation and adjustment of dates based on different time units, making it convenient to perform operations like shifting dates, aligning them with specific periods, or calculating time differences between dates."
   ]
  },
  {
   "cell_type": "markdown",
   "id": "28a6b706",
   "metadata": {},
   "source": [
    "## Time zones\n",
    "Time zones are regions of the Earth that have the same standard time. Each fixed time is associated with a specific time zone, which is typically based on the local time of a particular geographic region. The time zone determines the offset from Coordinated Universal Time (UTC) and helps in representing the time in a specific region or location."
   ]
  },
  {
   "cell_type": "markdown",
   "id": "5cc9c9fe",
   "metadata": {},
   "source": [
    "## Working days\n",
    "In data analysis, it is common to consider whether a day is a working day or not. Apart from the regular weekends, each country and region has its own set of holidays, and even individual companies may have specific work schedules. Therefore, it is often necessary to specify the working day frequency for analysis."
   ]
  },
  {
   "cell_type": "markdown",
   "id": "bacfc998",
   "metadata": {},
   "source": [
    "## Time conversion \n",
    "\n",
    "Time conversion involves transforming the format of time expressions and performing various time calculations. Some common examples of time conversion include:\n",
    "* Converting time format: This involves changing the representation of time from one format to another. For example, converting a timestamp to a specific date and time format, or converting a string-based date to a datetime object.\n",
    "\n",
    "* Date calculations: This involves performing calculations on dates and times. For instance, determining the date of the same day last year, calculating the date that is 100 days prior to a given date, or adding/subtracting a specific duration from a given time.\n",
    "\n",
    "* Timezone conversion: This involves converting a time value from one timezone to another. This is particularly useful when dealing with data from different time zones or when working with international time-related data."
   ]
  },
  {
   "cell_type": "markdown",
   "id": "b4bfbf1f",
   "metadata": {},
   "source": [
    "# Time Series \n",
    "Time series data is a crucial data type in various fields of research, as it is inherently related to time. Therefore, effective handling of time data has become increasingly important. Pandas, a powerful data analysis tool, provides a variety of time data types and processing methods to facilitate the analysis of time series data."
   ]
  },
  {
   "cell_type": "markdown",
   "id": "fdda50f3",
   "metadata": {},
   "source": [
    "## Four types of time series \n",
    "| Time Concept   | Type Representation | Array Class    | pandas Type                   | Creation Method      |\n",
    "|----------------|---------------------|-----------------|-------------------------------|----------------------|\n",
    "| Fixed Time     | Timestamp           | DatetimeIndex   | datetime64[ns] or datetime64[ns, tz]   | to_datetime or date_range  |\n",
    "| Time Delta     | Timedelta           | TimedeltaIndex  | timedelta64[ns]              | to_timedelta or timedelta_range |\n",
    "| Time Span      | Period              | PeriodIndex     | period[freq]                  | Period or period_range |\n",
    "| Date Offset    | DateOffset          | None            | None                          | DateOffset            |\n",
    "\n",
    "Time series data is often used as the index of a Series or DataFrame to facilitate operations on the time data."
   ]
  },
  {
   "cell_type": "markdown",
   "id": "f6a0be34",
   "metadata": {},
   "source": [
    "## Creating fixed time data\n",
    "Creating fixed time data with timestamps is the most basic type of time series data. It associates values with specific time points, allowing for various time-based operations. Defining and transforming timestamps correctly is crucial. Additionally, a specific `timestamp` contains rich information such as the year, day of the week, month, and quarter, which can be extracted as attributes.\n",
    "\n",
    "`pd.Timestamp()` is a primary function in pandas for defining and working with timestamps. It serves as a replacement for the `datetime.datetime` object in Python and provides additional functionality specific to time series data.\n"
   ]
  },
  {
   "cell_type": "markdown",
   "id": "f9be2be4",
   "metadata": {},
   "source": [
    "### Python `datetime` library "
   ]
  },
  {
   "cell_type": "code",
   "execution_count": 2,
   "id": "d9886de1",
   "metadata": {},
   "outputs": [
    {
     "data": {
      "text/plain": [
       "Timestamp('2023-07-05 00:00:00')"
      ]
     },
     "execution_count": 2,
     "metadata": {},
     "output_type": "execute_result"
    }
   ],
   "source": [
    "import datetime\n",
    "pd.Timestamp(datetime.datetime(2023,7, 5)) # should include the year, month, and day information"
   ]
  },
  {
   "cell_type": "code",
   "execution_count": 3,
   "id": "51a25971",
   "metadata": {},
   "outputs": [
    {
     "data": {
      "text/plain": [
       "Timestamp('2023-07-05 14:16:32')"
      ]
     },
     "execution_count": 3,
     "metadata": {},
     "output_type": "execute_result"
    }
   ],
   "source": [
    "pd.Timestamp(datetime.datetime(2023,7, 5, 14, 16, 32))"
   ]
  },
  {
   "cell_type": "markdown",
   "id": "e5fcb624",
   "metadata": {},
   "source": [
    "###  Specify a `timestamp` using a string\n",
    "\n",
    "use the following format: \"YYYY-MM-DD HH:MM:SS\", where:\n",
    "* YYYY represents the four-digit year.\n",
    "* MM represents the two-digit month (01 to 12).\n",
    "* DD represents the two-digit day of the month (01 to 31).\n",
    "* HH represents the two-digit hour in 24-hour format (00 to 23).\n",
    "* MM represents the two-digit minute (00 to 59).\n",
    "* SS represents the two-digit second (00 to 59)."
   ]
  },
  {
   "cell_type": "code",
   "execution_count": 4,
   "id": "d9dcfc09",
   "metadata": {},
   "outputs": [
    {
     "data": {
      "text/plain": [
       "Timestamp('2023-07-05 00:00:00')"
      ]
     },
     "execution_count": 4,
     "metadata": {},
     "output_type": "execute_result"
    }
   ],
   "source": [
    "pd.Timestamp(\"2023-07-05\")"
   ]
  },
  {
   "cell_type": "code",
   "execution_count": 5,
   "id": "2288458e",
   "metadata": {},
   "outputs": [
    {
     "data": {
      "text/plain": [
       "Timestamp('2023-07-05 12:00:00')"
      ]
     },
     "execution_count": 5,
     "metadata": {},
     "output_type": "execute_result"
    }
   ],
   "source": [
    "pd.Timestamp('2023-07-05T12')  # the date and time separated by the letter \"T\"."
   ]
  },
  {
   "cell_type": "markdown",
   "id": "1c8cfed1",
   "metadata": {},
   "source": [
    "### Specify the positions of time numbers\n",
    "Specify the order: year, month, day，hour, minute, second, microsecond"
   ]
  },
  {
   "cell_type": "code",
   "execution_count": 6,
   "id": "89179078",
   "metadata": {},
   "outputs": [
    {
     "data": {
      "text/plain": [
       "Timestamp('2023-07-05 00:00:00')"
      ]
     },
     "execution_count": 6,
     "metadata": {},
     "output_type": "execute_result"
    }
   ],
   "source": [
    "pd.Timestamp(2023, 7, 5)"
   ]
  },
  {
   "cell_type": "code",
   "execution_count": 7,
   "id": "610ef60f",
   "metadata": {},
   "outputs": [
    {
     "data": {
      "text/plain": [
       "Timestamp('2023-07-05 14:21:00')"
      ]
     },
     "execution_count": 7,
     "metadata": {},
     "output_type": "execute_result"
    }
   ],
   "source": [
    "pd.Timestamp(2023, 7, 5, 14, 21)"
   ]
  },
  {
   "cell_type": "code",
   "execution_count": 8,
   "id": "10e67030",
   "metadata": {},
   "outputs": [
    {
     "data": {
      "text/plain": [
       "Timestamp('2023-07-05 14:00:00')"
      ]
     },
     "execution_count": 8,
     "metadata": {},
     "output_type": "execute_result"
    }
   ],
   "source": [
    "pd.Timestamp(year = 2023, month = 7, day = 5, hour = 14)"
   ]
  },
  {
   "cell_type": "markdown",
   "id": "432206a2",
   "metadata": {},
   "source": [
    "### Parsing a Unix timestamp"
   ]
  },
  {
   "cell_type": "code",
   "execution_count": 9,
   "id": "df62c2cd",
   "metadata": {},
   "outputs": [
    {
     "name": "stdout",
     "output_type": "stream",
     "text": [
      "1689308897\n"
     ]
    }
   ],
   "source": [
    "import time\n",
    "current_timestamp = int(time.time())\n",
    "print(current_timestamp)"
   ]
  },
  {
   "cell_type": "code",
   "execution_count": 10,
   "id": "c2248a43",
   "metadata": {},
   "outputs": [
    {
     "data": {
      "text/plain": [
       "Timestamp('2023-07-14 04:28:17')"
      ]
     },
     "execution_count": 10,
     "metadata": {},
     "output_type": "execute_result"
    }
   ],
   "source": [
    "pd.Timestamp(current_timestamp, unit = 's') # Unit: second"
   ]
  },
  {
   "cell_type": "markdown",
   "id": "0f8a4b39",
   "metadata": {},
   "source": [
    "### To specify a specific time zone\n",
    "\n",
    "Time zone strings:\n",
    "\n",
    "* 'UTC' or 'GMT': Coordinated Universal Time\n",
    "* 'US/Eastern', 'US/Central', 'US/Mountain', 'US/Pacific': US time zones\n",
    "* 'Europe/London', 'Europe/Paris', 'Europe/Berlin': European time zones\n",
    "* 'Asia/Tokyo', 'Asia/Shanghai', 'Asia/Dubai': Asian time zones\n",
    "* 'Australia/Sydney', 'Australia/Adelaide', 'Australia/Perth': Australian time zones"
   ]
  },
  {
   "cell_type": "code",
   "execution_count": 11,
   "id": "77ef9c54",
   "metadata": {},
   "outputs": [
    {
     "data": {
      "text/plain": [
       "Timestamp('2023-07-14 00:28:17-0400', tz='US/Eastern')"
      ]
     },
     "execution_count": 11,
     "metadata": {},
     "output_type": "execute_result"
    }
   ],
   "source": [
    "pd.Timestamp(current_timestamp, unit = 's', tz = 'US/Eastern')"
   ]
  },
  {
   "cell_type": "code",
   "execution_count": 12,
   "id": "bec8996b",
   "metadata": {},
   "outputs": [
    {
     "data": {
      "text/plain": [
       "Timestamp('2023-07-14 12:28:17+0800', tz='Asia/Shanghai')"
      ]
     },
     "execution_count": 12,
     "metadata": {},
     "output_type": "execute_result"
    }
   ],
   "source": [
    "pd.Timestamp(current_timestamp, unit = 's', tz = 'Asia/Shanghai')"
   ]
  },
  {
   "cell_type": "markdown",
   "id": "2e1d587f",
   "metadata": {},
   "source": [
    "### Special times"
   ]
  },
  {
   "cell_type": "code",
   "execution_count": 13,
   "id": "4f321904",
   "metadata": {},
   "outputs": [
    {
     "data": {
      "text/plain": [
       "Timestamp('2023-07-14 00:28:17.962670')"
      ]
     },
     "execution_count": 13,
     "metadata": {},
     "output_type": "execute_result"
    }
   ],
   "source": [
    "pd.Timestamp.today()"
   ]
  },
  {
   "cell_type": "code",
   "execution_count": 14,
   "id": "ae9a34b1",
   "metadata": {},
   "outputs": [
    {
     "data": {
      "text/plain": [
       "Timestamp('2023-07-14 00:28:17.977628')"
      ]
     },
     "execution_count": 14,
     "metadata": {},
     "output_type": "execute_result"
    }
   ],
   "source": [
    "# Get the current timestamp\n",
    "current_time = pd.Timestamp.now()\n",
    "current_time"
   ]
  },
  {
   "cell_type": "code",
   "execution_count": 15,
   "id": "358c16d6",
   "metadata": {},
   "outputs": [
    {
     "data": {
      "text/plain": [
       "datetime.date(2023, 7, 14)"
      ]
     },
     "execution_count": 15,
     "metadata": {},
     "output_type": "execute_result"
    }
   ],
   "source": [
    "pd.Timestamp.today().date() # only show dates"
   ]
  },
  {
   "cell_type": "code",
   "execution_count": 16,
   "id": "979bad54",
   "metadata": {},
   "outputs": [
    {
     "data": {
      "text/plain": [
       "Timestamp('2023-07-13 00:28:18.009571')"
      ]
     },
     "execution_count": 16,
     "metadata": {},
     "output_type": "execute_result"
    }
   ],
   "source": [
    "# Yesterday\n",
    "pd.Timestamp.now() - pd.Timedelta(days = 1)"
   ]
  },
  {
   "cell_type": "code",
   "execution_count": 17,
   "id": "61e800f4",
   "metadata": {},
   "outputs": [
    {
     "data": {
      "text/plain": [
       "Timestamp('2023-07-15 00:28:18.024504')"
      ]
     },
     "execution_count": 17,
     "metadata": {},
     "output_type": "execute_result"
    }
   ],
   "source": [
    "# Tomorrow \n",
    "pd.Timestamp.now() + pd.Timedelta(days = 1)"
   ]
  },
  {
   "cell_type": "code",
   "execution_count": 18,
   "id": "b6e2a018",
   "metadata": {},
   "outputs": [
    {
     "data": {
      "text/plain": [
       "Timestamp('2023-07-01 00:28:18.039463')"
      ]
     },
     "execution_count": 18,
     "metadata": {},
     "output_type": "execute_result"
    }
   ],
   "source": [
    "# The first day of the current month\n",
    "pd.Timestamp.now().replace(day = 1)"
   ]
  },
  {
   "cell_type": "markdown",
   "id": "777b7e51",
   "metadata": {},
   "source": [
    "## Time attributes operation"
   ]
  },
  {
   "cell_type": "markdown",
   "id": "c4204afa",
   "metadata": {},
   "source": [
    "### Time attributes"
   ]
  },
  {
   "cell_type": "code",
   "execution_count": 19,
   "id": "20921a4a",
   "metadata": {},
   "outputs": [
    {
     "data": {
      "text/plain": [
       "Timestamp('2023-07-14 00:28:18.055421')"
      ]
     },
     "execution_count": 19,
     "metadata": {},
     "output_type": "execute_result"
    }
   ],
   "source": [
    "time = pd.Timestamp.now()\n",
    "time"
   ]
  },
  {
   "cell_type": "code",
   "execution_count": 20,
   "id": "562c9b2f",
   "metadata": {},
   "outputs": [
    {
     "data": {
      "text/plain": [
       "numpy.datetime64('2023-07-14T00:28:18.055421')"
      ]
     },
     "execution_count": 20,
     "metadata": {},
     "output_type": "execute_result"
    }
   ],
   "source": [
    "time.asm8 # return numpy datetime64 "
   ]
  },
  {
   "cell_type": "code",
   "execution_count": 21,
   "id": "7b760454",
   "metadata": {},
   "outputs": [
    {
     "data": {
      "text/plain": [
       "4"
      ]
     },
     "execution_count": 21,
     "metadata": {},
     "output_type": "execute_result"
    }
   ],
   "source": [
    "time.dayofweek"
   ]
  },
  {
   "cell_type": "code",
   "execution_count": 22,
   "id": "e99d9cae",
   "metadata": {},
   "outputs": [
    {
     "data": {
      "text/plain": [
       "1689294498055421000"
      ]
     },
     "execution_count": 22,
     "metadata": {},
     "output_type": "execute_result"
    }
   ],
   "source": [
    "time.value"
   ]
  },
  {
   "cell_type": "markdown",
   "id": "ab5eba9e",
   "metadata": {},
   "source": [
    "###### Other attributes: \n",
    "* `time.dayofweek`: Returns the day of the week as an integer (Monday is 0 and Sunday is 6).\n",
    "\n",
    "* `time.dayofyear`: Returns the day of the year (1 to 366).\n",
    "* `time.days_in_month`: Returns the number of days in the month.\n",
    "\n",
    "*  `time.freqstr: Returns` the frequency string representing the time period.\n",
    "*  `time.is_leap_year`: Returns True if the year is a leap year in the Gregorian calendar.\n",
    "*  `time.is_month_end`: Returns True if the date is the last day of the month.\n",
    "*  `time.is_month_start`: Returns True if the date is the first day of the month.\n",
    "*  `time.is_quarter_end`: Returns True if the date is the last day of the quarter.\n",
    "*  `time.is_quarter_start`: Returns True if the date is the first day of the quarter.\n",
    "*  `time.is_year_end`: Returns True if the date is the last day of the year.\n",
    "*  `time.is_year_start`: Returns True if the date is the first day of the year.\n",
    "*  `time.quarter`: Returns the quarter of the year (1 to 4).\n",
    "*  `time.tz`: Returns the timezone alias of the timestamp.\n",
    "*  `time.week`: Returns the week number of the year.\n",
    "*  `time.day`: Returns the day of the month.\n",
    "*  `time.fold`: Returns the fold number, used to disambiguate between overlapping times during daylight saving time transitions.\n",
    "*  `time.freq`: Returns the frequency of the timestamp.\n",
    "*  `time.hour`: Returns the hour.\n",
    "*  `time.microsecond`: Returns the microsecond.\n",
    "*  `time.minute`: Returns the minute.\n",
    "*  `time.month`: Returns the month.\n",
    "*  `time.nanosecond`: Returns the nanosecond.\n",
    "*  `time.second`: Returns the second.\n",
    "*  `time.tzinfo`: Returns the timezone information (None for timezone-naive timestamps).\n",
    "* `time.value`: Returns the timestamp value as a numpy int64.\n",
    "*  `time.year`: Returns the year."
   ]
  },
  {
   "cell_type": "markdown",
   "id": "110c7db1",
   "metadata": {},
   "source": [
    "### Time methods\n"
   ]
  },
  {
   "cell_type": "code",
   "execution_count": 23,
   "id": "f400e669",
   "metadata": {},
   "outputs": [
    {
     "data": {
      "text/plain": [
       "Timestamp('2023-07-14 12:28:18.118252+0800', tz='Asia/Shanghai')"
      ]
     },
     "execution_count": 23,
     "metadata": {},
     "output_type": "execute_result"
    }
   ],
   "source": [
    "time = pd.Timestamp.now(tz = 'Asia/Shanghai')\n",
    "time "
   ]
  },
  {
   "cell_type": "code",
   "execution_count": 24,
   "id": "312a3e9a",
   "metadata": {},
   "outputs": [
    {
     "data": {
      "text/plain": [
       "Timestamp('2023-07-14 04:28:18.118252+0000', tz='UTC')"
      ]
     },
     "execution_count": 24,
     "metadata": {},
     "output_type": "execute_result"
    }
   ],
   "source": [
    "# To convert a Timestamp object to a specific time zone\n",
    "time.astimezone('UTC')"
   ]
  },
  {
   "cell_type": "code",
   "execution_count": 25,
   "id": "49c4c248",
   "metadata": {},
   "outputs": [
    {
     "data": {
      "text/plain": [
       "Timestamp('2023-07-14 12:28:19+0800', tz='Asia/Shanghai')"
      ]
     },
     "execution_count": 25,
     "metadata": {},
     "output_type": "execute_result"
    }
   ],
   "source": [
    "# Convert the unit to second and round it up\n",
    "time.ceil('s')"
   ]
  },
  {
   "cell_type": "code",
   "execution_count": 26,
   "id": "4b2ccb3e",
   "metadata": {},
   "outputs": [
    {
     "data": {
      "text/plain": [
       "Timestamp('2023-07-15 00:00:00+0800', tz='Asia/Shanghai')"
      ]
     },
     "execution_count": 26,
     "metadata": {},
     "output_type": "execute_result"
    }
   ],
   "source": [
    "# Convert the unit to day and round it up\n",
    "time.ceil('d')"
   ]
  },
  {
   "cell_type": "code",
   "execution_count": 27,
   "id": "d8875ef5",
   "metadata": {},
   "outputs": [
    {
     "data": {
      "text/plain": [
       "Timestamp('2023-07-14 12:00:00+0800', tz='Asia/Shanghai')"
      ]
     },
     "execution_count": 27,
     "metadata": {},
     "output_type": "execute_result"
    }
   ],
   "source": [
    "time.floor('h') # keep hour"
   ]
  },
  {
   "cell_type": "code",
   "execution_count": 28,
   "id": "adbca706",
   "metadata": {},
   "outputs": [
    {
     "data": {
      "text/plain": [
       "Timestamp('2023-07-14 12:00:00+0800', tz='Asia/Shanghai')"
      ]
     },
     "execution_count": 28,
     "metadata": {},
     "output_type": "execute_result"
    }
   ],
   "source": [
    "time.round('h') # keep hour"
   ]
  },
  {
   "cell_type": "code",
   "execution_count": 29,
   "id": "ad57aa0f",
   "metadata": {},
   "outputs": [
    {
     "data": {
      "text/plain": [
       "'Friday'"
      ]
     },
     "execution_count": 29,
     "metadata": {},
     "output_type": "execute_result"
    }
   ],
   "source": [
    "time.day_name()  # return the name of the weekday"
   ]
  },
  {
   "cell_type": "code",
   "execution_count": 30,
   "id": "cd282743",
   "metadata": {},
   "outputs": [
    {
     "data": {
      "text/plain": [
       "'July'"
      ]
     },
     "execution_count": 30,
     "metadata": {},
     "output_type": "execute_result"
    }
   ],
   "source": [
    "time.month_name() # return the name of the month "
   ]
  },
  {
   "cell_type": "code",
   "execution_count": 31,
   "id": "547da22e",
   "metadata": {},
   "outputs": [
    {
     "data": {
      "text/plain": [
       "Timestamp('2023-07-14 00:00:00+0800', tz='Asia/Shanghai')"
      ]
     },
     "execution_count": 31,
     "metadata": {},
     "output_type": "execute_result"
    }
   ],
   "source": [
    "# To normalize a timestamp to midnight while preserving the timezone information\n",
    "time.normalize()"
   ]
  },
  {
   "cell_type": "markdown",
   "id": "e752fb2a",
   "metadata": {},
   "source": [
    "## Time Type Conversion\n",
    "Due to the variety of time formats, in many cases, Pandas cannot automatically recognize them as time types. Therefore, during the data cleaning process before processing, we need to specifically convert the data to the time type."
   ]
  },
  {
   "cell_type": "markdown",
   "id": "8e166d19",
   "metadata": {},
   "source": [
    "### `astype`\n",
    "\n",
    "`astype` is the simplest method for time conversion. It can only be used for relatively standard time formats."
   ]
  },
  {
   "cell_type": "code",
   "execution_count": 32,
   "id": "6703e523",
   "metadata": {},
   "outputs": [
    {
     "data": {
      "text/plain": [
       "0   2023-01-31\n",
       "1   2023-02-28\n",
       "2   2023-03-31\n",
       "dtype: datetime64[ns]"
      ]
     },
     "execution_count": 32,
     "metadata": {},
     "output_type": "execute_result"
    }
   ],
   "source": [
    "s = pd.Series(['2023-01-31', '2023-02-28', '2023-03-31'])\n",
    "s.astype('datetime64[ns]')"
   ]
  },
  {
   "cell_type": "code",
   "execution_count": 33,
   "id": "a523300d",
   "metadata": {},
   "outputs": [
    {
     "data": {
      "text/plain": [
       "0   2023-01-31 00:00:00-05:00\n",
       "1   2023-02-28 00:00:00-05:00\n",
       "2   2023-03-31 00:00:00-04:00\n",
       "dtype: datetime64[ns, US/Eastern]"
      ]
     },
     "execution_count": 33,
     "metadata": {},
     "output_type": "execute_result"
    }
   ],
   "source": [
    "# Specify the time zone \n",
    "s.astype('datetime64[ns, US/Eastern]')"
   ]
  },
  {
   "cell_type": "markdown",
   "id": "9e1b7082",
   "metadata": {},
   "source": [
    "### `pd.to_datetime`\n",
    "The main tool provided by Pandas for recognizing and converting time is `pd.to_datetime()`.\n",
    "\n",
    "Combining date and time from multiple columns in a DataFrame. The keys can be common abbreviations, such as `['year', 'month', 'day', 'minute', 'second', 'ms', 'us', 'ns']`:\n",
    "\n",
    "Required: year, month, day\n",
    "Optional: hour, minute, second, millisecond, microsecond, nanosecond"
   ]
  },
  {
   "cell_type": "code",
   "execution_count": 34,
   "id": "d67b3cec",
   "metadata": {},
   "outputs": [
    {
     "data": {
      "text/html": [
       "<div>\n",
       "<style scoped>\n",
       "    .dataframe tbody tr th:only-of-type {\n",
       "        vertical-align: middle;\n",
       "    }\n",
       "\n",
       "    .dataframe tbody tr th {\n",
       "        vertical-align: top;\n",
       "    }\n",
       "\n",
       "    .dataframe thead th {\n",
       "        text-align: right;\n",
       "    }\n",
       "</style>\n",
       "<table border=\"1\" class=\"dataframe\">\n",
       "  <thead>\n",
       "    <tr style=\"text-align: right;\">\n",
       "      <th></th>\n",
       "      <th>year</th>\n",
       "      <th>month</th>\n",
       "      <th>day</th>\n",
       "    </tr>\n",
       "  </thead>\n",
       "  <tbody>\n",
       "    <tr>\n",
       "      <th>0</th>\n",
       "      <td>2020</td>\n",
       "      <td>2</td>\n",
       "      <td>4</td>\n",
       "    </tr>\n",
       "    <tr>\n",
       "      <th>1</th>\n",
       "      <td>2021</td>\n",
       "      <td>3</td>\n",
       "      <td>5</td>\n",
       "    </tr>\n",
       "  </tbody>\n",
       "</table>\n",
       "</div>"
      ],
      "text/plain": [
       "   year  month  day\n",
       "0  2020      2    4\n",
       "1  2021      3    5"
      ]
     },
     "execution_count": 34,
     "metadata": {},
     "output_type": "execute_result"
    }
   ],
   "source": [
    "df = pd.DataFrame({'year': [2020, 2021],\n",
    "                   'month': [2, 3],\n",
    "                   'day': [4, 5]})\n",
    "df"
   ]
  },
  {
   "cell_type": "code",
   "execution_count": 35,
   "id": "8d2329d2",
   "metadata": {},
   "outputs": [
    {
     "data": {
      "text/plain": [
       "0   2020-02-04\n",
       "1   2021-03-05\n",
       "dtype: datetime64[ns]"
      ]
     },
     "execution_count": 35,
     "metadata": {},
     "output_type": "execute_result"
    }
   ],
   "source": [
    "pd.to_datetime(df)"
   ]
  },
  {
   "cell_type": "code",
   "execution_count": 36,
   "id": "b95fe74c",
   "metadata": {},
   "outputs": [
    {
     "data": {
      "text/plain": [
       "0   2020-02-04\n",
       "1   2021-03-05\n",
       "dtype: datetime64[ns]"
      ]
     },
     "execution_count": 36,
     "metadata": {},
     "output_type": "execute_result"
    }
   ],
   "source": [
    "pd.to_datetime(df[['year', 'month', 'day']])"
   ]
  },
  {
   "cell_type": "markdown",
   "id": "8474fb41",
   "metadata": {},
   "source": [
    "###### Smart parsing of dates and times.\n",
    "\n",
    "- passing `format` if your strings have a consistent format;\n",
    "- passing `format='ISO8601'` if your strings are all ISO8601 but not necessarily in exactly the same format;\n",
    "- passing `format='mixed'`, and the format will be inferred for each element individually. You might want to use `dayfirst` alongside this."
   ]
  },
  {
   "cell_type": "code",
   "execution_count": 37,
   "id": "9061b7e5",
   "metadata": {},
   "outputs": [
    {
     "data": {
      "text/plain": [
       "0   2023-12-31\n",
       "1   2023-01-10\n",
       "2          NaT\n",
       "dtype: datetime64[ns]"
      ]
     },
     "execution_count": 37,
     "metadata": {},
     "output_type": "execute_result"
    }
   ],
   "source": [
    "pd.to_datetime(pd.Series(['Dec 31, 2023', '2023-01-10', None]), format = 'mixed') # add format argument"
   ]
  },
  {
   "cell_type": "code",
   "execution_count": 38,
   "id": "77f9c342",
   "metadata": {
    "scrolled": true
   },
   "outputs": [
    {
     "data": {
      "text/plain": [
       "DatetimeIndex(['2005-11-23', '2010-12-31'], dtype='datetime64[ns]', freq=None)"
      ]
     },
     "execution_count": 38,
     "metadata": {},
     "output_type": "execute_result"
    }
   ],
   "source": [
    "pd.to_datetime(['2005/11/23', '2010.12.31'], format = 'mixed')"
   ]
  },
  {
   "cell_type": "code",
   "execution_count": 39,
   "id": "50493afb",
   "metadata": {},
   "outputs": [
    {
     "data": {
      "text/plain": [
       "DatetimeIndex(['2012-01-04 10:00:00'], dtype='datetime64[ns]', freq=None)"
      ]
     },
     "execution_count": 39,
     "metadata": {},
     "output_type": "execute_result"
    }
   ],
   "source": [
    "pd.to_datetime(['04-01-2012 10:00'], dayfirst = True) "
   ]
  },
  {
   "cell_type": "markdown",
   "id": "c00a4969",
   "metadata": {},
   "source": [
    "###### Use `pd.Timestamp()` for conversion "
   ]
  },
  {
   "cell_type": "code",
   "execution_count": 40,
   "id": "63a1e068",
   "metadata": {},
   "outputs": [
    {
     "data": {
      "text/plain": [
       "Timestamp('2023-11-12 00:00:00')"
      ]
     },
     "execution_count": 40,
     "metadata": {},
     "output_type": "execute_result"
    }
   ],
   "source": [
    "pd.to_datetime('2023/11/12')"
   ]
  },
  {
   "cell_type": "code",
   "execution_count": 41,
   "id": "1f920bd6",
   "metadata": {},
   "outputs": [
    {
     "data": {
      "text/plain": [
       "Timestamp('2023-11-12 00:00:00')"
      ]
     },
     "execution_count": 41,
     "metadata": {},
     "output_type": "execute_result"
    }
   ],
   "source": [
    "pd.Timestamp('2023/11/12')"
   ]
  },
  {
   "cell_type": "markdown",
   "id": "7d878544",
   "metadata": {},
   "source": [
    "##### Aslo can work with `pd.DatetimeIndex` to convert"
   ]
  },
  {
   "cell_type": "code",
   "execution_count": 42,
   "id": "bbce0d47",
   "metadata": {},
   "outputs": [
    {
     "data": {
      "text/plain": [
       "DatetimeIndex(['2023-01-01', '2023-01-03', '2023-01-05'], dtype='datetime64[ns]', freq=None)"
      ]
     },
     "execution_count": 42,
     "metadata": {},
     "output_type": "execute_result"
    }
   ],
   "source": [
    "pd.DatetimeIndex(['2023-01-01', '2023-01-03', '2023-01-05'])"
   ]
  },
  {
   "cell_type": "markdown",
   "id": "97659f0e",
   "metadata": {},
   "source": [
    "###### By using `infer`,  Pandas automatically determines the frequency based on the input dates rather than specifying it explicitly."
   ]
  },
  {
   "cell_type": "code",
   "execution_count": 43,
   "id": "1479c81d",
   "metadata": {},
   "outputs": [
    {
     "data": {
      "text/plain": [
       "DatetimeIndex(['2023-01-01', '2023-01-03', '2023-01-05'], dtype='datetime64[ns]', freq='2D')"
      ]
     },
     "execution_count": 43,
     "metadata": {},
     "output_type": "execute_result"
    }
   ],
   "source": [
    "pd.DatetimeIndex(['2023-01-01', '2023-01-03', '2023-01-05'], freq = 'infer')"
   ]
  },
  {
   "cell_type": "markdown",
   "id": "35851ff2",
   "metadata": {},
   "source": [
    "##### For formatted data, we need to specify the format of the data using the format parameter\n",
    "\n",
    "\n",
    "The `errors='ignore'` parameter indicates that if there are any errors during the conversion, such as an invalid date format, the function should ignore them and return the original input without raising an error.\n",
    "\n",
    "In this case, since the input date '13000101' is not a valid date, the function will ignore the error and return the original string '13000101' as the output without raising an error."
   ]
  },
  {
   "cell_type": "code",
   "execution_count": 44,
   "id": "1876a91f",
   "metadata": {},
   "outputs": [
    {
     "data": {
      "text/plain": [
       "'13000101'"
      ]
     },
     "execution_count": 44,
     "metadata": {},
     "output_type": "execute_result"
    }
   ],
   "source": [
    "pd.to_datetime('13000101', format = '%Y%m%d', errors = 'ignore')"
   ]
  },
  {
   "cell_type": "markdown",
   "id": "050cf225",
   "metadata": {},
   "source": [
    "When `errors='coerce'` is specified, any parsing errors encountered during the conversion process will result in a missing value (`NaN`) instead of raising an error. This means that if the input string cannot be successfully parsed according to the specified format, the resulting `datetime` value will be `NaT` (Not a Time)."
   ]
  },
  {
   "cell_type": "code",
   "execution_count": 45,
   "id": "17467e2c",
   "metadata": {},
   "outputs": [
    {
     "data": {
      "text/plain": [
       "NaT"
      ]
     },
     "execution_count": 45,
     "metadata": {},
     "output_type": "execute_result"
    }
   ],
   "source": [
    "pd.to_datetime('13000101', format = '%Y%m%d', errors = 'coerce')"
   ]
  },
  {
   "cell_type": "code",
   "execution_count": 46,
   "id": "37c6ca8b",
   "metadata": {},
   "outputs": [
    {
     "data": {
      "text/html": [
       "<div>\n",
       "<style scoped>\n",
       "    .dataframe tbody tr th:only-of-type {\n",
       "        vertical-align: middle;\n",
       "    }\n",
       "\n",
       "    .dataframe tbody tr th {\n",
       "        vertical-align: top;\n",
       "    }\n",
       "\n",
       "    .dataframe thead th {\n",
       "        text-align: right;\n",
       "    }\n",
       "</style>\n",
       "<table border=\"1\" class=\"dataframe\">\n",
       "  <thead>\n",
       "    <tr style=\"text-align: right;\">\n",
       "      <th></th>\n",
       "      <th>year</th>\n",
       "      <th>month</th>\n",
       "      <th>day</th>\n",
       "    </tr>\n",
       "  </thead>\n",
       "  <tbody>\n",
       "    <tr>\n",
       "      <th>0</th>\n",
       "      <td>2020</td>\n",
       "      <td>2</td>\n",
       "      <td>4</td>\n",
       "    </tr>\n",
       "    <tr>\n",
       "      <th>1</th>\n",
       "      <td>2021</td>\n",
       "      <td>3</td>\n",
       "      <td>5</td>\n",
       "    </tr>\n",
       "  </tbody>\n",
       "</table>\n",
       "</div>"
      ],
      "text/plain": [
       "   year  month  day\n",
       "0  2020      2    4\n",
       "1  2021      3    5"
      ]
     },
     "execution_count": 46,
     "metadata": {},
     "output_type": "execute_result"
    }
   ],
   "source": [
    "df"
   ]
  },
  {
   "cell_type": "code",
   "execution_count": 47,
   "id": "4917485c",
   "metadata": {},
   "outputs": [
    {
     "data": {
      "text/plain": [
       "0   2020-02-04\n",
       "1   2021-03-05\n",
       "dtype: datetime64[ns]"
      ]
     },
     "execution_count": 47,
     "metadata": {},
     "output_type": "execute_result"
    }
   ],
   "source": [
    "pd.to_datetime(df, format = '%m/%d/%Y')"
   ]
  },
  {
   "cell_type": "code",
   "execution_count": 48,
   "id": "a0a76874",
   "metadata": {},
   "outputs": [
    {
     "data": {
      "text/plain": [
       "Timestamp('2023-11-12 00:00:00')"
      ]
     },
     "execution_count": 48,
     "metadata": {},
     "output_type": "execute_result"
    }
   ],
   "source": [
    "pd.to_datetime('2023/11/12', format = '%Y/%m/%d')"
   ]
  },
  {
   "cell_type": "code",
   "execution_count": 49,
   "id": "b7d875bd",
   "metadata": {},
   "outputs": [
    {
     "data": {
      "text/plain": [
       "Timestamp('2010-11-12 00:00:00')"
      ]
     },
     "execution_count": 49,
     "metadata": {},
     "output_type": "execute_result"
    }
   ],
   "source": [
    "pd.to_datetime('12-11-2010 00:00', format = '%d-%m-%Y %H:%M')"
   ]
  },
  {
   "cell_type": "code",
   "execution_count": 50,
   "id": "5ea7f9dc",
   "metadata": {},
   "outputs": [
    {
     "data": {
      "text/plain": [
       "1689308897"
      ]
     },
     "execution_count": 50,
     "metadata": {},
     "output_type": "execute_result"
    }
   ],
   "source": [
    "# convert the timestamp to a datetime object. \n",
    "#The unit='s' parameter specifies that the timestamp is in seconds.\n",
    "current_timestamp"
   ]
  },
  {
   "cell_type": "code",
   "execution_count": 51,
   "id": "ab616a3b",
   "metadata": {},
   "outputs": [
    {
     "data": {
      "text/plain": [
       "Timestamp('2023-07-14 00:28:17.977628')"
      ]
     },
     "execution_count": 51,
     "metadata": {},
     "output_type": "execute_result"
    }
   ],
   "source": [
    "pd.to_datetime(current_time, unit = 's')"
   ]
  },
  {
   "cell_type": "markdown",
   "id": "4e13163f",
   "metadata": {},
   "source": [
    "### Time formating symbols\n",
    "\n",
    "* %y: Year without century as a zero-padded decimal number (00-99)\n",
    "* %Y: Year with century as a decimal number (000-9999)\n",
    "* %m: Month as a zero-padded decimal number (01-12)\n",
    "* %d: Day of the month as a zero-padded decimal number (01-31)\n",
    "* %H: Hour (24-hour clock) as a zero-padded decimal number (00-23)\n",
    "* %I: Hour (12-hour clock) as a zero-padded decimal number (01-12)\n",
    "* %M: Minute as a zero-padded decimal number (00-59)\n",
    "* %S: Second as a zero-padded decimal number (00-59)\n",
    "* %a: Locale's abbreviated weekday name (e.g., Mon)\n",
    "* %A: Locale's full weekday name (e.g., Monday)\n",
    "* %b: Locale's abbreviated month name (e.g., Jan)\n",
    "* %B: Locale's full month name (e.g., January)\n",
    "* %c: Locale's appropriate date and time representation\n",
    "* %j: Day of the year as a zero-padded decimal number (001-366)\n",
    "* %p: Locale's equivalent of either AM or PM\n",
    "* %U: Week number of the year (Sunday as the first day of the week) as a zero-padded decimal number (00-53)\n",
    "* %w: Weekday as a decimal number (0-6, where Sunday is 0)\n",
    "* %W: Week number of the year (Monday as the first day of the week) as a zero-padded decimal number (00-53)\n",
    "* %x: Locale's appropriate date representation\n",
    "* %X: Locale's appropriate time representation\n",
    "* %Z: Time zone name (e.g., GMT)\n",
    "* %%: Percentage sign itself"
   ]
  },
  {
   "cell_type": "markdown",
   "id": "eb521b38",
   "metadata": {},
   "source": [
    "## Time period\n",
    "The characteristic of a time period/range is that it has a start time and an end time, as well as a frequency or duration. Time periods are widely used in fields such as economics, physics, finance, and more."
   ]
  },
  {
   "cell_type": "markdown",
   "id": "c67a1668",
   "metadata": {},
   "source": [
    "### Generate a range of time period\n",
    "We can use `pd.DatetimeIndex()` and `pd.Index()` to construct a range of time data. "
   ]
  },
  {
   "cell_type": "code",
   "execution_count": 52,
   "id": "5bce2b20",
   "metadata": {},
   "outputs": [
    {
     "data": {
      "text/plain": [
       "DatetimeIndex(['2023-05-01', '2023-05-02', '2023-05-03'], dtype='datetime64[ns]', freq=None)"
      ]
     },
     "execution_count": 52,
     "metadata": {},
     "output_type": "execute_result"
    }
   ],
   "source": [
    "dates = [datetime.datetime(2023, 5, 1),\n",
    "         datetime.datetime(2023, 5, 2),\n",
    "         datetime.datetime(2023, 5, 3)]\n",
    "\n",
    "# No frequency\n",
    "pd.DatetimeIndex(dates)"
   ]
  },
  {
   "cell_type": "code",
   "execution_count": 53,
   "id": "45765544",
   "metadata": {},
   "outputs": [
    {
     "data": {
      "text/plain": [
       "DatetimeIndex(['2023-05-01', '2023-05-02', '2023-05-03'], dtype='datetime64[ns]', freq=None)"
      ]
     },
     "execution_count": 53,
     "metadata": {},
     "output_type": "execute_result"
    }
   ],
   "source": [
    "pd.Index(dates) # same results as pd.DatetimeIndex"
   ]
  },
  {
   "cell_type": "code",
   "execution_count": 54,
   "id": "67a6d24c",
   "metadata": {},
   "outputs": [
    {
     "data": {
      "text/plain": [
       "DatetimeIndex(['2023-01-01', '2023-01-02', '2023-01-03', '2023-01-04',\n",
       "               '2023-01-05', '2023-01-06', '2023-01-07', '2023-01-08'],\n",
       "              dtype='datetime64[ns]', freq='D')"
      ]
     },
     "execution_count": 54,
     "metadata": {},
     "output_type": "execute_result"
    }
   ],
   "source": [
    "pd.date_range(start = '1/1/2023', end = '1/08/2023')  # month, day, year"
   ]
  },
  {
   "cell_type": "code",
   "execution_count": 55,
   "id": "af742a21",
   "metadata": {},
   "outputs": [
    {
     "data": {
      "text/plain": [
       "DatetimeIndex(['2023-01-01', '2023-01-02', '2023-01-03', '2023-01-04',\n",
       "               '2023-01-05', '2023-01-06', '2023-01-07', '2023-01-08'],\n",
       "              dtype='datetime64[ns]', freq='D')"
      ]
     },
     "execution_count": 55,
     "metadata": {},
     "output_type": "execute_result"
    }
   ],
   "source": [
    "pd.date_range(start = '1/1/2023', periods = 8)"
   ]
  },
  {
   "cell_type": "code",
   "execution_count": 56,
   "id": "d353c4c0",
   "metadata": {},
   "outputs": [
    {
     "data": {
      "text/plain": [
       "DatetimeIndex(['2022-12-25', '2022-12-26', '2022-12-27', '2022-12-28',\n",
       "               '2022-12-29', '2022-12-30', '2022-12-31', '2023-01-01'],\n",
       "              dtype='datetime64[ns]', freq='D')"
      ]
     },
     "execution_count": 56,
     "metadata": {},
     "output_type": "execute_result"
    }
   ],
   "source": [
    "pd.date_range(end = '1/1/2023', periods = 8)"
   ]
  },
  {
   "cell_type": "code",
   "execution_count": 57,
   "id": "d1290b92",
   "metadata": {},
   "outputs": [
    {
     "data": {
      "text/plain": [
       "DatetimeIndex(['2023-07-14', '2023-07-15', '2023-07-16', '2023-07-17',\n",
       "               '2023-07-18', '2023-07-19', '2023-07-20'],\n",
       "              dtype='datetime64[ns]', freq='D')"
      ]
     },
     "execution_count": 57,
     "metadata": {},
     "output_type": "execute_result"
    }
   ],
   "source": [
    "# Use strftime to convert the timestamp to formating string\n",
    "pd.date_range(start = pd.Timestamp.now().strftime('%Y-%m-%d'), periods = 7)"
   ]
  },
  {
   "cell_type": "code",
   "execution_count": 58,
   "id": "288f49ad",
   "metadata": {},
   "outputs": [
    {
     "data": {
      "text/plain": [
       "DatetimeIndex(['2023-07-31', '2023-08-31', '2023-09-30', '2023-10-31',\n",
       "               '2023-11-30', '2023-12-31', '2024-01-31'],\n",
       "              dtype='datetime64[ns]', freq='M')"
      ]
     },
     "execution_count": 58,
     "metadata": {},
     "output_type": "execute_result"
    }
   ],
   "source": [
    "# Specify the frequency to be month\n",
    "pd.date_range(start = pd.Timestamp.now().strftime('%Y-%m-%d'), periods = 7, freq = 'M')"
   ]
  },
  {
   "cell_type": "markdown",
   "id": "df3432b0",
   "metadata": {},
   "source": [
    "### Workday frequency `bdate_range`\n",
    "The `pd.bdate_range` function can be used to generate a date range with a business day frequency, where weekends (Saturday and Sunday) are skipped. "
   ]
  },
  {
   "cell_type": "code",
   "execution_count": 59,
   "id": "03ea58f2",
   "metadata": {},
   "outputs": [
    {
     "data": {
      "text/plain": [
       "DatetimeIndex(['2023-07-10', '2023-07-11', '2023-07-12', '2023-07-13',\n",
       "               '2023-07-14', '2023-07-17', '2023-07-18', '2023-07-19',\n",
       "               '2023-07-20', '2023-07-21'],\n",
       "              dtype='datetime64[ns]', freq='B')"
      ]
     },
     "execution_count": 59,
     "metadata": {},
     "output_type": "execute_result"
    }
   ],
   "source": [
    "pd.bdate_range(start = '7/10/2023', end = '7/21/2023')"
   ]
  },
  {
   "cell_type": "markdown",
   "id": "875557bd",
   "metadata": {},
   "source": [
    "## Offset\n",
    "\n",
    "Periodic data has a base frequency, also known as resolution or granularity. Time offsets are composed of a base frequency and a multiplier, which are useful for working with periodic data. Pandas provides a specialized object called `Date offsets` to handle time offsets. The DateOffset class performs similar operations to `dateutil.relativedelta`, allowing for date offsets based on the real calendar rules, and supports arithmetic operations using the addition operator (+) or the apply method.\n",
    "\n",
    "###  DateOffset Objects\n",
    "`DateOffset` is similar to `timedelta`, but it follows the rules of the calendar for date and time calculations, making it more aligned with real-life scenarios. For example, in regions that observe daylight saving time, the daily time offset can be 23, 24, or even 25 hours.\n",
    "\n",
    "Difference between `DateOffset` and `Timedelta`\n",
    "\n",
    "* `Timedelta` represents absolute time differences, where adding or subtracting 1 day always corresponds to 24 hours, regardless of daylight saving time.\n",
    "* `DateOffset` represents relative time differences and adjusts the time accordingly, considering the actual length of the day (23, 24, or 25 hours) based on the specific date."
   ]
  },
  {
   "cell_type": "markdown",
   "id": "3529e8c8",
   "metadata": {},
   "source": [
    "### `DateOffset` example\n",
    "\n",
    "Below is an example of daylight saving time,  if we add a `pd.Timedelta(days=1)` to a specific date, it will always increment the date by exactly one day, regardless of any calendar rules such as daylight saving time or leap years.\n",
    "\n",
    "On the other hand, if you add a `pd.DateOffset(days=1)` to a specific date, it will consider calendar rules and adjust the date accordingly."
   ]
  },
  {
   "cell_type": "code",
   "execution_count": 60,
   "id": "d2270fc2",
   "metadata": {},
   "outputs": [
    {
     "data": {
      "text/plain": [
       "Timestamp('2023-07-10 00:00:00+0300', tz='Europe/Helsinki')"
      ]
     },
     "execution_count": 60,
     "metadata": {},
     "output_type": "execute_result"
    }
   ],
   "source": [
    "# To generate a specific time in Finnish Helsinki time,\n",
    "ts = pd.Timestamp('2023-7-10 00:00:00', tz = 'Europe/Helsinki')\n",
    "ts"
   ]
  },
  {
   "cell_type": "code",
   "execution_count": 61,
   "id": "9b279dbb",
   "metadata": {},
   "outputs": [
    {
     "data": {
      "text/plain": [
       "Timestamp('2023-07-11 00:00:00+0300', tz='Europe/Helsinki')"
      ]
     },
     "execution_count": 61,
     "metadata": {},
     "output_type": "execute_result"
    }
   ],
   "source": [
    "# Add one day\n",
    "ts + pd.Timedelta(days = 1)"
   ]
  },
  {
   "cell_type": "code",
   "execution_count": 62,
   "id": "cd2329b2",
   "metadata": {},
   "outputs": [
    {
     "data": {
      "text/plain": [
       "Timestamp('2023-07-11 00:00:00+0300', tz='Europe/Helsinki')"
      ]
     },
     "execution_count": 62,
     "metadata": {},
     "output_type": "execute_result"
    }
   ],
   "source": [
    "# To increment a date by one day using calendar time\n",
    "ts + pd.DateOffset(days = 1)"
   ]
  },
  {
   "cell_type": "markdown",
   "id": "cf67e57f",
   "metadata": {},
   "source": [
    "### To add or subtract a specifit duration of time\n",
    "We can use `pd.DateOffset`, you can specify the desired offset as an argument when creating a `pd.DateOffset` object. The available options for the offset parameter include years, months, weeks, days, hours, minutes, and seconds."
   ]
  },
  {
   "cell_type": "code",
   "execution_count": 63,
   "id": "aa022f72",
   "metadata": {},
   "outputs": [
    {
     "data": {
      "text/plain": [
       "Timestamp('2023-10-14 00:28:18.749565')"
      ]
     },
     "execution_count": 63,
     "metadata": {},
     "output_type": "execute_result"
    }
   ],
   "source": [
    "ts = pd.Timestamp.now()\n",
    "ts + pd.DateOffset(months = 3)"
   ]
  },
  {
   "cell_type": "code",
   "execution_count": 64,
   "id": "863c41a5",
   "metadata": {},
   "outputs": [
    {
     "data": {
      "text/plain": [
       "Timestamp('2023-07-14 02:28:18.749565')"
      ]
     },
     "execution_count": 64,
     "metadata": {},
     "output_type": "execute_result"
    }
   ],
   "source": [
    "ts + pd.DateOffset(hours = 2)"
   ]
  },
  {
   "cell_type": "markdown",
   "id": "fb59824a",
   "metadata": {},
   "source": [
    "### Commonly used offset object\n",
    "| Frequency | Offset                                          |\n",
    "|-----------|-------------------------------------------------|\n",
    "| D/B       | DateOffset or BDay                              |\n",
    "| W         | Week                                            |\n",
    "| (B)M      | (B)MonthEnd or (B)MonthBegin                    |\n",
    "| (B)Q      | (B)QuarterEnd or (B)QuarterBegin                |\n",
    "| (B)Y      | (B)YearEnd or (B)YearBegin                      |\n",
    "| (B)MS     | (B)MonthEnd or (B)MonthBegin                    |\n",
    "| (B)QS     | (B)QuarterEnd or (B)QuarterBegin                |\n",
    "| (B)YS     | (B)YearEnd or (B)YearBegin                      |\n",
    "| H         | Hour                                            |\n",
    "| T         | Minute                                          |\n",
    "| S         | Second                                          |\n",
    "| C         | Custom Business Day Offset (pandas CustomBusinessDay) |\n"
   ]
  },
  {
   "cell_type": "code",
   "execution_count": 65,
   "id": "9c718e8e",
   "metadata": {},
   "outputs": [
    {
     "data": {
      "text/plain": [
       "Timestamp('2023-07-28 00:28:18.781479')"
      ]
     },
     "execution_count": 65,
     "metadata": {},
     "output_type": "execute_result"
    }
   ],
   "source": [
    "pd.Timestamp.now() + pd.offsets.Week(2)"
   ]
  },
  {
   "cell_type": "code",
   "execution_count": 66,
   "id": "16793a97",
   "metadata": {},
   "outputs": [
    {
     "data": {
      "text/plain": [
       "Timestamp('2023-09-01 00:28:18.805416')"
      ]
     },
     "execution_count": 66,
     "metadata": {},
     "output_type": "execute_result"
    }
   ],
   "source": [
    "# adds one business quarter to the current timestamp.\n",
    "pd.Timestamp.now() + pd.offsets.BQuarterBegin(1)"
   ]
  },
  {
   "cell_type": "markdown",
   "id": "8ba23357",
   "metadata": {},
   "source": [
    "# Time Series Indexing"
   ]
  },
  {
   "cell_type": "markdown",
   "id": "e952c310",
   "metadata": {},
   "source": [
    "##  Time Index Slicing\n",
    "When working with time series data, we often need to select a subset of the data based on a specific time range. Pandas provides several methods for time index slicing."
   ]
  },
  {
   "cell_type": "code",
   "execution_count": 67,
   "id": "496a8a5d",
   "metadata": {},
   "outputs": [
    {
     "data": {
      "text/plain": [
       "2023-01-31   -0.289541\n",
       "2023-02-28    0.118338\n",
       "2023-03-31    0.878664\n",
       "2023-04-28    0.093831\n",
       "2023-05-31   -0.755808\n",
       "2023-06-30    0.487227\n",
       "2023-07-31    2.112644\n",
       "2023-08-31    0.541513\n",
       "2023-09-29   -1.192744\n",
       "2023-10-31    1.837886\n",
       "2023-11-30    1.474369\n",
       "Freq: BM, dtype: float64"
      ]
     },
     "execution_count": 67,
     "metadata": {},
     "output_type": "execute_result"
    }
   ],
   "source": [
    "# Business month end \n",
    "rng = pd.date_range('1/1/2023', '12/1/2023', freq = 'BM')\n",
    "ts = pd.Series(np.random.randn(len(rng)), index = rng)\n",
    "ts"
   ]
  },
  {
   "cell_type": "code",
   "execution_count": 68,
   "id": "86e946c0",
   "metadata": {},
   "outputs": [
    {
     "data": {
      "text/plain": [
       "DatetimeIndex(['2023-03-31', '2023-04-28'], dtype='datetime64[ns]', freq='BM')"
      ]
     },
     "execution_count": 68,
     "metadata": {},
     "output_type": "execute_result"
    }
   ],
   "source": [
    "ts[2:4].index"
   ]
  },
  {
   "cell_type": "code",
   "execution_count": 69,
   "id": "2361062e",
   "metadata": {},
   "outputs": [
    {
     "data": {
      "text/plain": [
       "DatetimeIndex(['2023-01-31', '2023-03-31', '2023-05-31', '2023-07-31',\n",
       "               '2023-09-29', '2023-11-30'],\n",
       "              dtype='datetime64[ns]', freq='2BM')"
      ]
     },
     "execution_count": 69,
     "metadata": {},
     "output_type": "execute_result"
    }
   ],
   "source": [
    "ts[::2].index"
   ]
  },
  {
   "cell_type": "markdown",
   "id": "fbac6fa7",
   "metadata": {},
   "source": [
    "## Indexing by label:"
   ]
  },
  {
   "cell_type": "code",
   "execution_count": 70,
   "id": "6e6eb50c",
   "metadata": {},
   "outputs": [
    {
     "data": {
      "text/plain": [
       "-1.1927443004067002"
      ]
     },
     "execution_count": 70,
     "metadata": {},
     "output_type": "execute_result"
    }
   ],
   "source": [
    "ts['2023-09-29']"
   ]
  },
  {
   "cell_type": "code",
   "execution_count": 71,
   "id": "3302b850",
   "metadata": {},
   "outputs": [
    {
     "data": {
      "text/plain": [
       "2023-09-29   -1.192744\n",
       "2023-10-31    1.837886\n",
       "2023-11-30    1.474369\n",
       "Freq: BM, dtype: float64"
      ]
     },
     "execution_count": 71,
     "metadata": {},
     "output_type": "execute_result"
    }
   ],
   "source": [
    "ts[datetime.datetime(2023, 9, 29):] # from 2023-09-29 to the end "
   ]
  },
  {
   "cell_type": "code",
   "execution_count": 72,
   "id": "767f8372",
   "metadata": {},
   "outputs": [
    {
     "data": {
      "text/plain": [
       "2023-05-31   -0.755808\n",
       "2023-06-30    0.487227\n",
       "2023-07-31    2.112644\n",
       "2023-08-31    0.541513\n",
       "Freq: BM, dtype: float64"
      ]
     },
     "execution_count": 72,
     "metadata": {},
     "output_type": "execute_result"
    }
   ],
   "source": [
    "ts['5/31/2023':'8/31/2023']"
   ]
  },
  {
   "cell_type": "code",
   "execution_count": 73,
   "id": "b75992c3",
   "metadata": {},
   "outputs": [
    {
     "data": {
      "text/plain": [
       "2023-01-31   -0.289541\n",
       "2023-02-28    0.118338\n",
       "2023-03-31    0.878664\n",
       "2023-04-28    0.093831\n",
       "2023-05-31   -0.755808\n",
       "2023-06-30    0.487227\n",
       "2023-07-31    2.112644\n",
       "2023-08-31    0.541513\n",
       "2023-09-29   -1.192744\n",
       "2023-10-31    1.837886\n",
       "2023-11-30    1.474369\n",
       "Freq: BM, dtype: float64"
      ]
     },
     "execution_count": 73,
     "metadata": {},
     "output_type": "execute_result"
    }
   ],
   "source": [
    "ts['2023']"
   ]
  },
  {
   "cell_type": "markdown",
   "id": "9c275ecd",
   "metadata": {},
   "source": [
    "## The resolution or granularity of a frequency\n",
    "It refers to the smallest unit of time that the frequency represents. In the previous examples, we saw frequencies like business days and calendar days, both of which are based on days as the common resolution.\n",
    "\n",
    "The resolution attribute of a `DatetimeIndex` or `TimedeltaIndex`in pandas can be useful in various applications:\n",
    "\n",
    "* **Data Analysis and Visualization**: Knowing the resolution of a time index can help in understanding the level of detail or granularity in the time data. It allows for proper analysis and visualization of the data at the appropriate time intervals. For example, if the resolution is at the minute level, you can perform minute-level analysis or plot data at minute intervals.\n",
    "\n",
    "* **Time Aggregation**: The resolution can be used to aggregate or group time series data at different levels. For example, if the resolution is at the daily level, you can aggregate data by month, quarter, or year by utilizing the resolution information.\n",
    "\n",
    "* **Time-based Filtering**: The resolution can be used to filter the time series data based on specific time intervals. For example, if the resolution is at the hour level, you can filter data for a specific hour of the day or a range of hours.\n",
    "\n",
    "* **Time Series Operations**: The resolution can be considered while performing time series operations such as resampling, interpolation, or alignment. It helps in ensuring that the operations are performed at the desired level of precision.\n",
    "\n",
    "Overall, understanding the resolution of a time index allows for better manipulation, analysis, and interpretation of time series data in pandas. It provides the necessary context for working with time-based data and enables appropriate handling of the data at different levels of detail or precision."
   ]
  },
  {
   "cell_type": "code",
   "execution_count": 74,
   "id": "172ed909",
   "metadata": {},
   "outputs": [
    {
     "data": {
      "text/plain": [
       "'minute'"
      ]
     },
     "execution_count": 74,
     "metadata": {},
     "output_type": "execute_result"
    }
   ],
   "source": [
    "series_minute = pd.Series([1, 2, 3],\n",
    "                          pd.DatetimeIndex(['2022-12-31 23:59:00',\n",
    "                                            '2023-01-01 00:00:00',\n",
    "                                            '2023-01-01 00:02:00']))\n",
    "series_minute.index.resolution"
   ]
  },
  {
   "cell_type": "code",
   "execution_count": 75,
   "id": "816a41a7",
   "metadata": {},
   "outputs": [
    {
     "data": {
      "text/plain": [
       "2022-12-31 23:59:00    1\n",
       "dtype: int64"
      ]
     },
     "execution_count": 75,
     "metadata": {},
     "output_type": "execute_result"
    }
   ],
   "source": [
    "# return a subset of the series that includes all entries that fall within the specified hour.\n",
    "series_minute['2022-12-31 23'] # retrive by hour"
   ]
  },
  {
   "cell_type": "code",
   "execution_count": 76,
   "id": "e02b38d2",
   "metadata": {},
   "outputs": [
    {
     "data": {
      "text/plain": [
       "2023-01-01 00:00:00    2\n",
       "2023-01-01 00:02:00    3\n",
       "dtype: int64"
      ]
     },
     "execution_count": 76,
     "metadata": {},
     "output_type": "execute_result"
    }
   ],
   "source": [
    "series_minute['2023-01-01 00']"
   ]
  },
  {
   "cell_type": "code",
   "execution_count": 77,
   "id": "1b1d8f06",
   "metadata": {},
   "outputs": [
    {
     "data": {
      "text/plain": [
       "2022-12-31 23:59:59    1\n",
       "2023-01-01 00:00:00    2\n",
       "2023-01-01 00:00:01    3\n",
       "dtype: int64"
      ]
     },
     "execution_count": 77,
     "metadata": {},
     "output_type": "execute_result"
    }
   ],
   "source": [
    "series_second = pd.Series([1, 2, 3],\n",
    "                          pd.DatetimeIndex(['2022-12-31 23:59:59',\n",
    "                                            '2023-01-01 00:00:00',\n",
    "                                            '2023-01-01 00:00:01']))\n",
    "series_second"
   ]
  },
  {
   "cell_type": "code",
   "execution_count": 78,
   "id": "7b5c0a66",
   "metadata": {},
   "outputs": [
    {
     "data": {
      "text/plain": [
       "'second'"
      ]
     },
     "execution_count": 78,
     "metadata": {},
     "output_type": "execute_result"
    }
   ],
   "source": [
    "series_second.index.resolution"
   ]
  },
  {
   "cell_type": "markdown",
   "id": "538470dd",
   "metadata": {},
   "source": [
    "## Truncation indexing \n",
    "`df.truncate()` is a useful tool for truncating (or slicing) a DataFrame based on the index values. It allows you to select a subset of the data within a specific range of the index. When applied to a time series index, such as a `DatetimeIndex`, `df.truncate()` can be especially helpful in working with time-based data.\n",
    "\n",
    "The `df.truncate()` function takes two main arguments: `before` and `after`, which specify the start and end points of the range to include in the truncated DataFrame. It returns a new DataFrame containing only the rows within the specified index range."
   ]
  },
  {
   "cell_type": "code",
   "execution_count": 79,
   "id": "69be1738",
   "metadata": {},
   "outputs": [
    {
     "data": {
      "text/plain": [
       "2023-06-04   -1.146954\n",
       "2023-06-11    0.787013\n",
       "2023-06-18    2.363992\n",
       "2023-06-25    2.089374\n",
       "2023-07-02   -0.009351\n",
       "2023-07-09    1.178917\n",
       "2023-07-16   -1.581136\n",
       "2023-07-23    0.495810\n",
       "2023-07-30    0.844120\n",
       "2023-08-06   -0.684021\n",
       "2023-08-13   -2.590597\n",
       "2023-08-20   -2.876724\n",
       "2023-08-27   -0.709572\n",
       "2023-09-03    0.394527\n",
       "2023-09-10   -0.213990\n",
       "2023-09-17    0.176764\n",
       "2023-09-24    0.111473\n",
       "2023-10-01    1.086191\n",
       "2023-10-08   -0.592974\n",
       "2023-10-15   -0.838464\n",
       "2023-10-22    0.617564\n",
       "2023-10-29   -0.378154\n",
       "2023-11-05    1.390811\n",
       "2023-11-12   -0.731473\n",
       "2023-11-19    0.131521\n",
       "2023-11-26    1.025194\n",
       "2023-12-03   -1.826369\n",
       "2023-12-10    0.760593\n",
       "2023-12-17   -1.023336\n",
       "2023-12-24    0.667236\n",
       "2023-12-31   -0.233309\n",
       "Freq: W-SUN, dtype: float64"
      ]
     },
     "execution_count": 79,
     "metadata": {},
     "output_type": "execute_result"
    }
   ],
   "source": [
    "rng2 = pd.date_range('2023-06-01', '2024-01-01', freq ='W')\n",
    "ts2 = pd.Series(np.random.randn(len(rng2)), index = rng2)\n",
    "ts2"
   ]
  },
  {
   "cell_type": "code",
   "execution_count": 80,
   "id": "4f824e2b",
   "metadata": {},
   "outputs": [
    {
     "data": {
      "text/plain": [
       "2023-11-05    1.390811\n",
       "2023-11-12   -0.731473\n",
       "2023-11-19    0.131521\n",
       "2023-11-26    1.025194\n",
       "Freq: W-SUN, dtype: float64"
      ]
     },
     "execution_count": 80,
     "metadata": {},
     "output_type": "execute_result"
    }
   ],
   "source": [
    "ts2.truncate(before = '2023-11', after = '2023-12')"
   ]
  },
  {
   "cell_type": "code",
   "execution_count": 81,
   "id": "ffb10a47",
   "metadata": {},
   "outputs": [
    {
     "data": {
      "text/plain": [
       "2023-11-05    1.390811\n",
       "2023-11-12   -0.731473\n",
       "2023-11-19    0.131521\n",
       "2023-11-26    1.025194\n",
       "2023-12-03   -1.826369\n",
       "2023-12-10    0.760593\n",
       "2023-12-17   -1.023336\n",
       "2023-12-24    0.667236\n",
       "2023-12-31   -0.233309\n",
       "Freq: W-SUN, dtype: float64"
      ]
     },
     "execution_count": 81,
     "metadata": {},
     "output_type": "execute_result"
    }
   ],
   "source": [
    "ts2['2023-11':'2023-12'] # difference from ts2.truncate"
   ]
  },
  {
   "cell_type": "code",
   "execution_count": 82,
   "id": "5effdcf0",
   "metadata": {},
   "outputs": [
    {
     "data": {
      "text/plain": [
       "DatetimeIndex(['2023-06-04', '2023-06-18', '2023-07-16'], dtype='datetime64[ns]', freq=None)"
      ]
     },
     "execution_count": 82,
     "metadata": {},
     "output_type": "execute_result"
    }
   ],
   "source": [
    "ts2[[0, 2, 6]].index  "
   ]
  },
  {
   "cell_type": "code",
   "execution_count": 83,
   "id": "1e899cb0",
   "metadata": {},
   "outputs": [
    {
     "data": {
      "text/html": [
       "<div>\n",
       "<style scoped>\n",
       "    .dataframe tbody tr th:only-of-type {\n",
       "        vertical-align: middle;\n",
       "    }\n",
       "\n",
       "    .dataframe tbody tr th {\n",
       "        vertical-align: top;\n",
       "    }\n",
       "\n",
       "    .dataframe thead th {\n",
       "        text-align: right;\n",
       "    }\n",
       "</style>\n",
       "<table border=\"1\" class=\"dataframe\">\n",
       "  <thead>\n",
       "    <tr style=\"text-align: right;\">\n",
       "      <th></th>\n",
       "      <th>A</th>\n",
       "      <th>B</th>\n",
       "      <th>C</th>\n",
       "    </tr>\n",
       "  </thead>\n",
       "  <tbody>\n",
       "    <tr>\n",
       "      <th>1</th>\n",
       "      <td>a</td>\n",
       "      <td>f</td>\n",
       "      <td>k</td>\n",
       "    </tr>\n",
       "    <tr>\n",
       "      <th>2</th>\n",
       "      <td>b</td>\n",
       "      <td>g</td>\n",
       "      <td>l</td>\n",
       "    </tr>\n",
       "    <tr>\n",
       "      <th>3</th>\n",
       "      <td>c</td>\n",
       "      <td>h</td>\n",
       "      <td>m</td>\n",
       "    </tr>\n",
       "    <tr>\n",
       "      <th>4</th>\n",
       "      <td>d</td>\n",
       "      <td>i</td>\n",
       "      <td>n</td>\n",
       "    </tr>\n",
       "    <tr>\n",
       "      <th>5</th>\n",
       "      <td>e</td>\n",
       "      <td>j</td>\n",
       "      <td>o</td>\n",
       "    </tr>\n",
       "  </tbody>\n",
       "</table>\n",
       "</div>"
      ],
      "text/plain": [
       "   A  B  C\n",
       "1  a  f  k\n",
       "2  b  g  l\n",
       "3  c  h  m\n",
       "4  d  i  n\n",
       "5  e  j  o"
      ]
     },
     "execution_count": 83,
     "metadata": {},
     "output_type": "execute_result"
    }
   ],
   "source": [
    "df = pd.DataFrame({'A': ['a', 'b', 'c', 'd', 'e'],\n",
    "                   'B': ['f', 'g', 'h', 'i', 'j'],\n",
    "                   'C': ['k', 'l', 'm', 'n', 'o']},\n",
    "                  index = [1, 2, 3, 4, 5])\n",
    "df"
   ]
  },
  {
   "cell_type": "code",
   "execution_count": 84,
   "id": "9537e008",
   "metadata": {},
   "outputs": [
    {
     "data": {
      "text/html": [
       "<div>\n",
       "<style scoped>\n",
       "    .dataframe tbody tr th:only-of-type {\n",
       "        vertical-align: middle;\n",
       "    }\n",
       "\n",
       "    .dataframe tbody tr th {\n",
       "        vertical-align: top;\n",
       "    }\n",
       "\n",
       "    .dataframe thead th {\n",
       "        text-align: right;\n",
       "    }\n",
       "</style>\n",
       "<table border=\"1\" class=\"dataframe\">\n",
       "  <thead>\n",
       "    <tr style=\"text-align: right;\">\n",
       "      <th></th>\n",
       "      <th>A</th>\n",
       "      <th>B</th>\n",
       "      <th>C</th>\n",
       "    </tr>\n",
       "  </thead>\n",
       "  <tbody>\n",
       "    <tr>\n",
       "      <th>2</th>\n",
       "      <td>b</td>\n",
       "      <td>g</td>\n",
       "      <td>l</td>\n",
       "    </tr>\n",
       "    <tr>\n",
       "      <th>3</th>\n",
       "      <td>c</td>\n",
       "      <td>h</td>\n",
       "      <td>m</td>\n",
       "    </tr>\n",
       "    <tr>\n",
       "      <th>4</th>\n",
       "      <td>d</td>\n",
       "      <td>i</td>\n",
       "      <td>n</td>\n",
       "    </tr>\n",
       "  </tbody>\n",
       "</table>\n",
       "</div>"
      ],
      "text/plain": [
       "   A  B  C\n",
       "2  b  g  l\n",
       "3  c  h  m\n",
       "4  d  i  n"
      ]
     },
     "execution_count": 84,
     "metadata": {},
     "output_type": "execute_result"
    }
   ],
   "source": [
    "df.truncate(before = 2, after = 4)"
   ]
  },
  {
   "cell_type": "code",
   "execution_count": 85,
   "id": "4ff6b4a3",
   "metadata": {},
   "outputs": [
    {
     "data": {
      "text/html": [
       "<div>\n",
       "<style scoped>\n",
       "    .dataframe tbody tr th:only-of-type {\n",
       "        vertical-align: middle;\n",
       "    }\n",
       "\n",
       "    .dataframe tbody tr th {\n",
       "        vertical-align: top;\n",
       "    }\n",
       "\n",
       "    .dataframe thead th {\n",
       "        text-align: right;\n",
       "    }\n",
       "</style>\n",
       "<table border=\"1\" class=\"dataframe\">\n",
       "  <thead>\n",
       "    <tr style=\"text-align: right;\">\n",
       "      <th></th>\n",
       "      <th>A</th>\n",
       "      <th>B</th>\n",
       "    </tr>\n",
       "  </thead>\n",
       "  <tbody>\n",
       "    <tr>\n",
       "      <th>1</th>\n",
       "      <td>a</td>\n",
       "      <td>f</td>\n",
       "    </tr>\n",
       "    <tr>\n",
       "      <th>2</th>\n",
       "      <td>b</td>\n",
       "      <td>g</td>\n",
       "    </tr>\n",
       "    <tr>\n",
       "      <th>3</th>\n",
       "      <td>c</td>\n",
       "      <td>h</td>\n",
       "    </tr>\n",
       "    <tr>\n",
       "      <th>4</th>\n",
       "      <td>d</td>\n",
       "      <td>i</td>\n",
       "    </tr>\n",
       "    <tr>\n",
       "      <th>5</th>\n",
       "      <td>e</td>\n",
       "      <td>j</td>\n",
       "    </tr>\n",
       "  </tbody>\n",
       "</table>\n",
       "</div>"
      ],
      "text/plain": [
       "   A  B\n",
       "1  a  f\n",
       "2  b  g\n",
       "3  c  h\n",
       "4  d  i\n",
       "5  e  j"
      ]
     },
     "execution_count": 85,
     "metadata": {},
     "output_type": "execute_result"
    }
   ],
   "source": [
    "# By column\n",
    "df.truncate(before = \"A\", after = \"B\", axis = \"columns\")"
   ]
  },
  {
   "cell_type": "code",
   "execution_count": 86,
   "id": "2fe335c1",
   "metadata": {},
   "outputs": [
    {
     "data": {
      "text/plain": [
       "2    b\n",
       "3    c\n",
       "4    d\n",
       "Name: A, dtype: object"
      ]
     },
     "execution_count": 86,
     "metadata": {},
     "output_type": "execute_result"
    }
   ],
   "source": [
    "df['A'].truncate(before = 2, after = 4)"
   ]
  },
  {
   "cell_type": "code",
   "execution_count": 87,
   "id": "473a6073",
   "metadata": {},
   "outputs": [
    {
     "data": {
      "text/html": [
       "<div>\n",
       "<style scoped>\n",
       "    .dataframe tbody tr th:only-of-type {\n",
       "        vertical-align: middle;\n",
       "    }\n",
       "\n",
       "    .dataframe tbody tr th {\n",
       "        vertical-align: top;\n",
       "    }\n",
       "\n",
       "    .dataframe thead th {\n",
       "        text-align: right;\n",
       "    }\n",
       "</style>\n",
       "<table border=\"1\" class=\"dataframe\">\n",
       "  <thead>\n",
       "    <tr style=\"text-align: right;\">\n",
       "      <th></th>\n",
       "      <th>A</th>\n",
       "    </tr>\n",
       "  </thead>\n",
       "  <tbody>\n",
       "    <tr>\n",
       "      <th>2023-01-31 23:59:56</th>\n",
       "      <td>1</td>\n",
       "    </tr>\n",
       "    <tr>\n",
       "      <th>2023-01-31 23:59:57</th>\n",
       "      <td>1</td>\n",
       "    </tr>\n",
       "    <tr>\n",
       "      <th>2023-01-31 23:59:58</th>\n",
       "      <td>1</td>\n",
       "    </tr>\n",
       "    <tr>\n",
       "      <th>2023-01-31 23:59:59</th>\n",
       "      <td>1</td>\n",
       "    </tr>\n",
       "    <tr>\n",
       "      <th>2023-02-01 00:00:00</th>\n",
       "      <td>1</td>\n",
       "    </tr>\n",
       "  </tbody>\n",
       "</table>\n",
       "</div>"
      ],
      "text/plain": [
       "                     A\n",
       "2023-01-31 23:59:56  1\n",
       "2023-01-31 23:59:57  1\n",
       "2023-01-31 23:59:58  1\n",
       "2023-01-31 23:59:59  1\n",
       "2023-02-01 00:00:00  1"
      ]
     },
     "execution_count": 87,
     "metadata": {},
     "output_type": "execute_result"
    }
   ],
   "source": [
    "dates = pd.date_range('2023-01-01', '2023-02-01', freq = 's')\n",
    "df = pd.DataFrame(index = dates, data = {'A': 1})\n",
    "df.tail()"
   ]
  },
  {
   "cell_type": "code",
   "execution_count": 88,
   "id": "90aa92f8",
   "metadata": {},
   "outputs": [
    {
     "data": {
      "text/html": [
       "<div>\n",
       "<style scoped>\n",
       "    .dataframe tbody tr th:only-of-type {\n",
       "        vertical-align: middle;\n",
       "    }\n",
       "\n",
       "    .dataframe tbody tr th {\n",
       "        vertical-align: top;\n",
       "    }\n",
       "\n",
       "    .dataframe thead th {\n",
       "        text-align: right;\n",
       "    }\n",
       "</style>\n",
       "<table border=\"1\" class=\"dataframe\">\n",
       "  <thead>\n",
       "    <tr style=\"text-align: right;\">\n",
       "      <th></th>\n",
       "      <th>A</th>\n",
       "    </tr>\n",
       "  </thead>\n",
       "  <tbody>\n",
       "    <tr>\n",
       "      <th>2023-01-09 23:59:56</th>\n",
       "      <td>1</td>\n",
       "    </tr>\n",
       "    <tr>\n",
       "      <th>2023-01-09 23:59:57</th>\n",
       "      <td>1</td>\n",
       "    </tr>\n",
       "    <tr>\n",
       "      <th>2023-01-09 23:59:58</th>\n",
       "      <td>1</td>\n",
       "    </tr>\n",
       "    <tr>\n",
       "      <th>2023-01-09 23:59:59</th>\n",
       "      <td>1</td>\n",
       "    </tr>\n",
       "    <tr>\n",
       "      <th>2023-01-10 00:00:00</th>\n",
       "      <td>1</td>\n",
       "    </tr>\n",
       "  </tbody>\n",
       "</table>\n",
       "</div>"
      ],
      "text/plain": [
       "                     A\n",
       "2023-01-09 23:59:56  1\n",
       "2023-01-09 23:59:57  1\n",
       "2023-01-09 23:59:58  1\n",
       "2023-01-09 23:59:59  1\n",
       "2023-01-10 00:00:00  1"
      ]
     },
     "execution_count": 88,
     "metadata": {},
     "output_type": "execute_result"
    }
   ],
   "source": [
    "df.truncate(before = pd.Timestamp('2023-01-05'),\n",
    "            after = pd.Timestamp('2023-01-10')).tail()"
   ]
  },
  {
   "cell_type": "code",
   "execution_count": 89,
   "id": "198eb6ba",
   "metadata": {},
   "outputs": [
    {
     "data": {
      "text/html": [
       "<div>\n",
       "<style scoped>\n",
       "    .dataframe tbody tr th:only-of-type {\n",
       "        vertical-align: middle;\n",
       "    }\n",
       "\n",
       "    .dataframe tbody tr th {\n",
       "        vertical-align: top;\n",
       "    }\n",
       "\n",
       "    .dataframe thead th {\n",
       "        text-align: right;\n",
       "    }\n",
       "</style>\n",
       "<table border=\"1\" class=\"dataframe\">\n",
       "  <thead>\n",
       "    <tr style=\"text-align: right;\">\n",
       "      <th></th>\n",
       "      <th>A</th>\n",
       "    </tr>\n",
       "  </thead>\n",
       "  <tbody>\n",
       "    <tr>\n",
       "      <th>2023-01-09 23:59:56</th>\n",
       "      <td>1</td>\n",
       "    </tr>\n",
       "    <tr>\n",
       "      <th>2023-01-09 23:59:57</th>\n",
       "      <td>1</td>\n",
       "    </tr>\n",
       "    <tr>\n",
       "      <th>2023-01-09 23:59:58</th>\n",
       "      <td>1</td>\n",
       "    </tr>\n",
       "    <tr>\n",
       "      <th>2023-01-09 23:59:59</th>\n",
       "      <td>1</td>\n",
       "    </tr>\n",
       "    <tr>\n",
       "      <th>2023-01-10 00:00:00</th>\n",
       "      <td>1</td>\n",
       "    </tr>\n",
       "  </tbody>\n",
       "</table>\n",
       "</div>"
      ],
      "text/plain": [
       "                     A\n",
       "2023-01-09 23:59:56  1\n",
       "2023-01-09 23:59:57  1\n",
       "2023-01-09 23:59:58  1\n",
       "2023-01-09 23:59:59  1\n",
       "2023-01-10 00:00:00  1"
      ]
     },
     "execution_count": 89,
     "metadata": {},
     "output_type": "execute_result"
    }
   ],
   "source": [
    "df.truncate('2023-01-05', '2023-01-10').tail()"
   ]
  },
  {
   "cell_type": "markdown",
   "id": "e05f987c",
   "metadata": {},
   "source": [
    "# Time series operation methods \n",
    "\n",
    "Just like other types of data, time series data often requires various operations such as aggregation, shifting, calculations, and more. In this section, we will explore some of the methods provided by Pandas for handling time series data."
   ]
  },
  {
   "cell_type": "markdown",
   "id": "43571a72",
   "metadata": {},
   "source": [
    "## Shifting \n",
    "`shift()`: Shift the time index by a specified number of periods.\n",
    "\n",
    "`tshift()`: Shift the time index by a specified time offset."
   ]
  },
  {
   "cell_type": "code",
   "execution_count": 90,
   "id": "0f730dc0",
   "metadata": {},
   "outputs": [
    {
     "data": {
      "text/plain": [
       "2023-07-01    0\n",
       "2023-07-02    1\n",
       "2023-07-03    2\n",
       "Freq: D, dtype: int64"
      ]
     },
     "execution_count": 90,
     "metadata": {},
     "output_type": "execute_result"
    }
   ],
   "source": [
    "rng = pd.date_range('2023-07-01', '2023-07-03')\n",
    "ts = pd.Series(range(len(rng)), index = rng)\n",
    "ts"
   ]
  },
  {
   "cell_type": "code",
   "execution_count": 91,
   "id": "b13c874a",
   "metadata": {},
   "outputs": [
    {
     "data": {
      "text/plain": [
       "2023-07-01    NaN\n",
       "2023-07-02    NaN\n",
       "2023-07-03    0.0\n",
       "Freq: D, dtype: float64"
      ]
     },
     "execution_count": 91,
     "metadata": {},
     "output_type": "execute_result"
    }
   ],
   "source": [
    "ts.shift(2)  # shift the values two days forward"
   ]
  },
  {
   "cell_type": "code",
   "execution_count": 92,
   "id": "cd6e6ca5",
   "metadata": {},
   "outputs": [
    {
     "data": {
      "text/plain": [
       "2023-07-05    0\n",
       "2023-07-05    1\n",
       "2023-07-06    2\n",
       "dtype: int64"
      ]
     },
     "execution_count": 92,
     "metadata": {},
     "output_type": "execute_result"
    }
   ],
   "source": [
    "# work days by freq parameter\n",
    "ts.shift(3, freq = pd.offsets.BDay())"
   ]
  },
  {
   "cell_type": "markdown",
   "id": "c7260874",
   "metadata": {},
   "source": [
    "## Frequency conversion\n",
    "`asfreq()`: Convert the time series data to a specified frequency by filling or dropping values, can also handle time rescaling operations, such as converting daily data to monthly data."
   ]
  },
  {
   "cell_type": "code",
   "execution_count": 93,
   "id": "3fff37fa",
   "metadata": {},
   "outputs": [
    {
     "data": {
      "text/plain": [
       "2023-01-02   -0.407041\n",
       "2023-01-05    0.456742\n",
       "2023-01-10    0.517278\n",
       "Freq: 3B, dtype: float64"
      ]
     },
     "execution_count": 93,
     "metadata": {},
     "output_type": "execute_result"
    }
   ],
   "source": [
    "dr = pd.date_range('1/1/2023', periods = 3, freq = 3 * pd.offsets.BDay())\n",
    "ts = pd.Series(np.random.randn(3), index=dr)\n",
    "ts"
   ]
  },
  {
   "cell_type": "code",
   "execution_count": 94,
   "id": "6f969a66",
   "metadata": {},
   "outputs": [
    {
     "data": {
      "text/plain": [
       "2023-01-02   -0.407041\n",
       "2023-01-03         NaN\n",
       "2023-01-04         NaN\n",
       "2023-01-05    0.456742\n",
       "2023-01-06         NaN\n",
       "2023-01-09         NaN\n",
       "2023-01-10    0.517278\n",
       "Freq: B, dtype: float64"
      ]
     },
     "execution_count": 94,
     "metadata": {},
     "output_type": "execute_result"
    }
   ],
   "source": [
    "# convert three workdays to 1 workdays\n",
    "ts.asfreq(pd.offsets.BDay())"
   ]
  },
  {
   "cell_type": "markdown",
   "id": "8d742ee2",
   "metadata": {},
   "source": [
    "The `asfreq()` method in Pandas is used to convert a time series to a specified frequency and provides additional convenience by allowing you to specify an interpolation method for any gaps that may occur after frequency conversion."
   ]
  },
  {
   "cell_type": "code",
   "execution_count": 95,
   "id": "cffc9d3e",
   "metadata": {},
   "outputs": [
    {
     "data": {
      "text/plain": [
       "2023-01-02   -0.407041\n",
       "2023-01-03   -0.407041\n",
       "2023-01-04   -0.407041\n",
       "2023-01-05    0.456742\n",
       "2023-01-06    0.456742\n",
       "2023-01-09    0.456742\n",
       "2023-01-10    0.517278\n",
       "Freq: B, dtype: float64"
      ]
     },
     "execution_count": 95,
     "metadata": {},
     "output_type": "execute_result"
    }
   ],
   "source": [
    "# argument specifies that any missing values should be filled with the \n",
    "# most recent observed value (forward filling). \n",
    "ts.asfreq(pd.offsets.BDay(), method = 'pad')"
   ]
  },
  {
   "cell_type": "code",
   "execution_count": 96,
   "id": "1c3d3cfd",
   "metadata": {},
   "outputs": [
    {
     "data": {
      "text/plain": [
       "2023-01-02 00:00:00   -0.407041\n",
       "2023-01-02 00:00:30    9.000000\n",
       "2023-01-02 00:01:00    9.000000\n",
       "2023-01-02 00:01:30    9.000000\n",
       "2023-01-02 00:02:00    9.000000\n",
       "                         ...   \n",
       "2023-01-09 23:58:00    9.000000\n",
       "2023-01-09 23:58:30    9.000000\n",
       "2023-01-09 23:59:00    9.000000\n",
       "2023-01-09 23:59:30    9.000000\n",
       "2023-01-10 00:00:00    0.517278\n",
       "Freq: 30S, Length: 23041, dtype: float64"
      ]
     },
     "execution_count": 96,
     "metadata": {},
     "output_type": "execute_result"
    }
   ],
   "source": [
    "ts.asfreq(freq = '30S', fill_value = 9.0)"
   ]
  },
  {
   "cell_type": "markdown",
   "id": "67e0c4ec",
   "metadata": {},
   "source": [
    "###### For a `DatetimeIndex`, `asfreq()` is essentially a convenient wrapper around `reindex()` that generates a `date_range` and calls `reindex` internally."
   ]
  },
  {
   "cell_type": "code",
   "execution_count": 97,
   "id": "9c8e2613",
   "metadata": {},
   "outputs": [
    {
     "data": {
      "text/html": [
       "<div>\n",
       "<style scoped>\n",
       "    .dataframe tbody tr th:only-of-type {\n",
       "        vertical-align: middle;\n",
       "    }\n",
       "\n",
       "    .dataframe tbody tr th {\n",
       "        vertical-align: top;\n",
       "    }\n",
       "\n",
       "    .dataframe thead th {\n",
       "        text-align: right;\n",
       "    }\n",
       "</style>\n",
       "<table border=\"1\" class=\"dataframe\">\n",
       "  <thead>\n",
       "    <tr style=\"text-align: right;\">\n",
       "      <th></th>\n",
       "      <th>prices</th>\n",
       "    </tr>\n",
       "  </thead>\n",
       "  <tbody>\n",
       "    <tr>\n",
       "      <th>2023-01-01</th>\n",
       "      <td>100.0</td>\n",
       "    </tr>\n",
       "    <tr>\n",
       "      <th>2023-01-02</th>\n",
       "      <td>101.0</td>\n",
       "    </tr>\n",
       "    <tr>\n",
       "      <th>2023-01-03</th>\n",
       "      <td>NaN</td>\n",
       "    </tr>\n",
       "    <tr>\n",
       "      <th>2023-01-04</th>\n",
       "      <td>100.0</td>\n",
       "    </tr>\n",
       "    <tr>\n",
       "      <th>2023-01-05</th>\n",
       "      <td>89.0</td>\n",
       "    </tr>\n",
       "    <tr>\n",
       "      <th>2023-01-06</th>\n",
       "      <td>88.0</td>\n",
       "    </tr>\n",
       "  </tbody>\n",
       "</table>\n",
       "</div>"
      ],
      "text/plain": [
       "            prices\n",
       "2023-01-01   100.0\n",
       "2023-01-02   101.0\n",
       "2023-01-03     NaN\n",
       "2023-01-04   100.0\n",
       "2023-01-05    89.0\n",
       "2023-01-06    88.0"
      ]
     },
     "execution_count": 97,
     "metadata": {},
     "output_type": "execute_result"
    }
   ],
   "source": [
    "date_index = pd.date_range('1/1/2023', periods = 6, freq = 'D')\n",
    "df2 = pd.DataFrame({\"prices\": [100, 101, np.nan, 100, 89, 88]},\n",
    "                   index = date_index)\n",
    "df2"
   ]
  },
  {
   "cell_type": "code",
   "execution_count": 98,
   "id": "7dea334b",
   "metadata": {},
   "outputs": [
    {
     "data": {
      "text/html": [
       "<div>\n",
       "<style scoped>\n",
       "    .dataframe tbody tr th:only-of-type {\n",
       "        vertical-align: middle;\n",
       "    }\n",
       "\n",
       "    .dataframe tbody tr th {\n",
       "        vertical-align: top;\n",
       "    }\n",
       "\n",
       "    .dataframe thead th {\n",
       "        text-align: right;\n",
       "    }\n",
       "</style>\n",
       "<table border=\"1\" class=\"dataframe\">\n",
       "  <thead>\n",
       "    <tr style=\"text-align: right;\">\n",
       "      <th></th>\n",
       "      <th>prices</th>\n",
       "    </tr>\n",
       "  </thead>\n",
       "  <tbody>\n",
       "    <tr>\n",
       "      <th>2022-12-29</th>\n",
       "      <td>NaN</td>\n",
       "    </tr>\n",
       "    <tr>\n",
       "      <th>2022-12-30</th>\n",
       "      <td>NaN</td>\n",
       "    </tr>\n",
       "    <tr>\n",
       "      <th>2022-12-31</th>\n",
       "      <td>NaN</td>\n",
       "    </tr>\n",
       "    <tr>\n",
       "      <th>2023-01-01</th>\n",
       "      <td>100.0</td>\n",
       "    </tr>\n",
       "    <tr>\n",
       "      <th>2023-01-02</th>\n",
       "      <td>101.0</td>\n",
       "    </tr>\n",
       "    <tr>\n",
       "      <th>2023-01-03</th>\n",
       "      <td>NaN</td>\n",
       "    </tr>\n",
       "    <tr>\n",
       "      <th>2023-01-04</th>\n",
       "      <td>100.0</td>\n",
       "    </tr>\n",
       "    <tr>\n",
       "      <th>2023-01-05</th>\n",
       "      <td>89.0</td>\n",
       "    </tr>\n",
       "    <tr>\n",
       "      <th>2023-01-06</th>\n",
       "      <td>88.0</td>\n",
       "    </tr>\n",
       "    <tr>\n",
       "      <th>2023-01-07</th>\n",
       "      <td>NaN</td>\n",
       "    </tr>\n",
       "  </tbody>\n",
       "</table>\n",
       "</div>"
      ],
      "text/plain": [
       "            prices\n",
       "2022-12-29     NaN\n",
       "2022-12-30     NaN\n",
       "2022-12-31     NaN\n",
       "2023-01-01   100.0\n",
       "2023-01-02   101.0\n",
       "2023-01-03     NaN\n",
       "2023-01-04   100.0\n",
       "2023-01-05    89.0\n",
       "2023-01-06    88.0\n",
       "2023-01-07     NaN"
      ]
     },
     "execution_count": 98,
     "metadata": {},
     "output_type": "execute_result"
    }
   ],
   "source": [
    "# Extend the date to large time range\n",
    "date_index2 = pd.date_range('12/29/2022', periods = 10, freq = 'D')\n",
    "df2.reindex(date_index2)"
   ]
  },
  {
   "cell_type": "code",
   "execution_count": 99,
   "id": "7aa954ce",
   "metadata": {},
   "outputs": [
    {
     "data": {
      "text/html": [
       "<div>\n",
       "<style scoped>\n",
       "    .dataframe tbody tr th:only-of-type {\n",
       "        vertical-align: middle;\n",
       "    }\n",
       "\n",
       "    .dataframe tbody tr th {\n",
       "        vertical-align: top;\n",
       "    }\n",
       "\n",
       "    .dataframe thead th {\n",
       "        text-align: right;\n",
       "    }\n",
       "</style>\n",
       "<table border=\"1\" class=\"dataframe\">\n",
       "  <thead>\n",
       "    <tr style=\"text-align: right;\">\n",
       "      <th></th>\n",
       "      <th>prices</th>\n",
       "    </tr>\n",
       "  </thead>\n",
       "  <tbody>\n",
       "    <tr>\n",
       "      <th>2022-12-29</th>\n",
       "      <td>100.0</td>\n",
       "    </tr>\n",
       "    <tr>\n",
       "      <th>2022-12-30</th>\n",
       "      <td>100.0</td>\n",
       "    </tr>\n",
       "    <tr>\n",
       "      <th>2022-12-31</th>\n",
       "      <td>100.0</td>\n",
       "    </tr>\n",
       "    <tr>\n",
       "      <th>2023-01-01</th>\n",
       "      <td>100.0</td>\n",
       "    </tr>\n",
       "    <tr>\n",
       "      <th>2023-01-02</th>\n",
       "      <td>101.0</td>\n",
       "    </tr>\n",
       "    <tr>\n",
       "      <th>2023-01-03</th>\n",
       "      <td>NaN</td>\n",
       "    </tr>\n",
       "    <tr>\n",
       "      <th>2023-01-04</th>\n",
       "      <td>100.0</td>\n",
       "    </tr>\n",
       "    <tr>\n",
       "      <th>2023-01-05</th>\n",
       "      <td>89.0</td>\n",
       "    </tr>\n",
       "    <tr>\n",
       "      <th>2023-01-06</th>\n",
       "      <td>88.0</td>\n",
       "    </tr>\n",
       "    <tr>\n",
       "      <th>2023-01-07</th>\n",
       "      <td>NaN</td>\n",
       "    </tr>\n",
       "  </tbody>\n",
       "</table>\n",
       "</div>"
      ],
      "text/plain": [
       "            prices\n",
       "2022-12-29   100.0\n",
       "2022-12-30   100.0\n",
       "2022-12-31   100.0\n",
       "2023-01-01   100.0\n",
       "2023-01-02   101.0\n",
       "2023-01-03     NaN\n",
       "2023-01-04   100.0\n",
       "2023-01-05    89.0\n",
       "2023-01-06    88.0\n",
       "2023-01-07     NaN"
      ]
     },
     "execution_count": 99,
     "metadata": {},
     "output_type": "execute_result"
    }
   ],
   "source": [
    "df2.reindex(date_index2, method = 'bfill')"
   ]
  },
  {
   "cell_type": "markdown",
   "id": "be05f455",
   "metadata": {},
   "source": [
    "# Time resampling \n",
    "\n",
    "Resampling refers to the process of converting time series data from one frequency to another. It is a common operation in financial applications but can be applied to various domains. Pandas provides powerful resampling functionality that is simple to use and efficient."
   ]
  },
  {
   "cell_type": "markdown",
   "id": "d7235397",
   "metadata": {},
   "source": [
    "## `resample()`\n",
    "The main function for resampling in Pandas is `resample()`. It allows you to specify the desired frequency for the resulting time series and apply an aggregation or transformation operation to the data within each interval. Some common frequency conversion options include `upsampling` (increasing the frequency), `downsampling` (decreasing the frequency), and maintaining the same frequency but applying a different aggregation method."
   ]
  },
  {
   "cell_type": "code",
   "execution_count": 100,
   "id": "1d2191ae",
   "metadata": {},
   "outputs": [
    {
     "data": {
      "text/plain": [
       "2023-01-01 00:00:00     37\n",
       "2023-01-01 00:00:01     19\n",
       "2023-01-01 00:00:02    190\n",
       "2023-01-01 00:00:03    199\n",
       "2023-01-01 00:00:04     17\n",
       "                      ... \n",
       "2023-01-01 00:16:35    493\n",
       "2023-01-01 00:16:36     35\n",
       "2023-01-01 00:16:37    246\n",
       "2023-01-01 00:16:38    250\n",
       "2023-01-01 00:16:39    118\n",
       "Freq: S, Length: 1000, dtype: int32"
      ]
     },
     "execution_count": 100,
     "metadata": {},
     "output_type": "execute_result"
    }
   ],
   "source": [
    "index = pd.date_range('1/1/2023', periods = 1000, freq='S')\n",
    "ts = pd.Series(np.random.randint(0, 500, len(index)), index = index)\n",
    "ts"
   ]
  },
  {
   "cell_type": "code",
   "execution_count": 101,
   "id": "0b39600b",
   "metadata": {},
   "outputs": [
    {
     "data": {
      "text/plain": [
       "2023-01-01 00:00:00    77042\n",
       "2023-01-01 00:05:00    74786\n",
       "2023-01-01 00:10:00    77464\n",
       "2023-01-01 00:15:00    26926\n",
       "Freq: 5T, dtype: int32"
      ]
     },
     "execution_count": 101,
     "metadata": {},
     "output_type": "execute_result"
    }
   ],
   "source": [
    " # Resample the time series to 5-minute frequency\n",
    "ts.resample('5Min').sum()"
   ]
  },
  {
   "cell_type": "markdown",
   "id": "e3cff6d1",
   "metadata": {},
   "source": [
    "##### the `resample()` function in Pandas allows us to specify various parameters to control the frequency conversion and resampling operations. We can also apply any available function (similar to groupby) as a method on the resulting object, including `sum`, `mean`, `std`, `sem`, `max`, `min`, `mid`, `median`, `first`, `last`, `ohlc` (open, high, low, close)."
   ]
  },
  {
   "cell_type": "code",
   "execution_count": 102,
   "id": "c72e9b63",
   "metadata": {},
   "outputs": [
    {
     "data": {
      "text/plain": [
       "2023-01-01 00:00:00    256.806667\n",
       "2023-01-01 00:05:00    249.286667\n",
       "2023-01-01 00:10:00    258.213333\n",
       "2023-01-01 00:15:00    269.260000\n",
       "Freq: 5T, dtype: float64"
      ]
     },
     "execution_count": 102,
     "metadata": {},
     "output_type": "execute_result"
    }
   ],
   "source": [
    "ts.resample('5T').mean() # Mean"
   ]
  },
  {
   "cell_type": "code",
   "execution_count": 103,
   "id": "5844d9f9",
   "metadata": {},
   "outputs": [
    {
     "data": {
      "text/plain": [
       "2023-01-01 00:00:00    494\n",
       "2023-01-01 00:05:00    498\n",
       "2023-01-01 00:10:00    499\n",
       "2023-01-01 00:15:00    494\n",
       "Freq: 5T, dtype: int32"
      ]
     },
     "execution_count": 103,
     "metadata": {},
     "output_type": "execute_result"
    }
   ],
   "source": [
    "ts.resample('5T').max()"
   ]
  },
  {
   "cell_type": "markdown",
   "id": "e8fdb0f2",
   "metadata": {},
   "source": [
    "## Open-High-Low-Close chart, OHLC chart\n",
    "An Open-High-Low-Close chart (OHLC chart), also known as a bar chart, is a graphical representation of stock price movements. It displays the opening price, high price, low price, and closing price of a security or financial instrument within a specific time period.\n",
    "\n",
    "The OHLC chart consists of vertical lines that represent the price range between the high and low prices for a given period. The left horizontal line represents the opening price, and the right horizontal line represents the closing price. The length of the vertical line indicates the price range, with the top point indicating the high price and the bottom point indicating the low price.\n",
    "\n",
    "The OHLC chart provides valuable information about the price volatility and trading range of a security. It helps traders and investors analyze the market trends, identify key support and resistance levels, and make informed decisions about buying or selling securities.\n",
    "\n",
    "In addition to the OHLC chart, there is also a variation called the High-Low-Close chart (HLC chart) that only displays the high price, low price, and closing price. This variation provides a simplified view of price movements without the opening price.\n",
    "\n",
    "Both OHLC and HLC charts are widely used in technical analysis and financial trading to study price patterns, identify trends, and generate trading signals. They are commonly used in stock market analysis, futures trading, and other financial markets."
   ]
  },
  {
   "cell_type": "code",
   "execution_count": 104,
   "id": "33aa8cc1",
   "metadata": {},
   "outputs": [
    {
     "data": {
      "text/html": [
       "<div>\n",
       "<style scoped>\n",
       "    .dataframe tbody tr th:only-of-type {\n",
       "        vertical-align: middle;\n",
       "    }\n",
       "\n",
       "    .dataframe tbody tr th {\n",
       "        vertical-align: top;\n",
       "    }\n",
       "\n",
       "    .dataframe thead th {\n",
       "        text-align: right;\n",
       "    }\n",
       "</style>\n",
       "<table border=\"1\" class=\"dataframe\">\n",
       "  <thead>\n",
       "    <tr style=\"text-align: right;\">\n",
       "      <th></th>\n",
       "      <th>open</th>\n",
       "      <th>high</th>\n",
       "      <th>low</th>\n",
       "      <th>close</th>\n",
       "    </tr>\n",
       "  </thead>\n",
       "  <tbody>\n",
       "    <tr>\n",
       "      <th>2023-01-01 00:00:00</th>\n",
       "      <td>37</td>\n",
       "      <td>494</td>\n",
       "      <td>0</td>\n",
       "      <td>252</td>\n",
       "    </tr>\n",
       "    <tr>\n",
       "      <th>2023-01-01 00:05:00</th>\n",
       "      <td>431</td>\n",
       "      <td>498</td>\n",
       "      <td>0</td>\n",
       "      <td>284</td>\n",
       "    </tr>\n",
       "    <tr>\n",
       "      <th>2023-01-01 00:10:00</th>\n",
       "      <td>159</td>\n",
       "      <td>499</td>\n",
       "      <td>2</td>\n",
       "      <td>388</td>\n",
       "    </tr>\n",
       "    <tr>\n",
       "      <th>2023-01-01 00:15:00</th>\n",
       "      <td>282</td>\n",
       "      <td>494</td>\n",
       "      <td>1</td>\n",
       "      <td>118</td>\n",
       "    </tr>\n",
       "  </tbody>\n",
       "</table>\n",
       "</div>"
      ],
      "text/plain": [
       "                     open  high  low  close\n",
       "2023-01-01 00:00:00    37   494    0    252\n",
       "2023-01-01 00:05:00   431   498    0    284\n",
       "2023-01-01 00:10:00   159   499    2    388\n",
       "2023-01-01 00:15:00   282   494    1    118"
      ]
     },
     "execution_count": 104,
     "metadata": {},
     "output_type": "execute_result"
    }
   ],
   "source": [
    "ts.resample('5Min').ohlc()"
   ]
  },
  {
   "cell_type": "markdown",
   "id": "46cb5d45",
   "metadata": {},
   "source": [
    "## Close and open Interval specification\n",
    "When closed is set to `left` (default), it means that the left bin edge is inclusive and the right bin edge is exclusive. This means that the values falling on the left bin edge are included in the resampled interval, while the values falling on the right bin edge are excluded.\n",
    "\n",
    "On the other hand, when closed is set to `right`, it means that the right bin edge is inclusive and the left bin edge is exclusive. In this case, the values falling on the right bin edge are included in the resampled interval, while the values falling on the left bin edge are excluded.\n",
    "\n",
    "The choice of closed interval specification depends on the specific use case and the desired behavior for handling the boundaries of the resampled intervals."
   ]
  },
  {
   "cell_type": "code",
   "execution_count": 105,
   "id": "6d593ab5",
   "metadata": {},
   "outputs": [
    {
     "data": {
      "text/plain": [
       "2022-12-31 23:55:00     37.000000\n",
       "2023-01-01 00:00:00    258.120000\n",
       "2023-01-01 00:05:00    248.380000\n",
       "2023-01-01 00:10:00    258.623333\n",
       "2023-01-01 00:15:00    269.131313\n",
       "Freq: 5T, dtype: float64"
      ]
     },
     "execution_count": 105,
     "metadata": {},
     "output_type": "execute_result"
    }
   ],
   "source": [
    "ts.resample('5Min', closed = 'right').mean()"
   ]
  },
  {
   "cell_type": "markdown",
   "id": "b66f7533",
   "metadata": {},
   "source": [
    "## Upsampling\n",
    "\n",
    "Upsampling refers to the process of increasing the frequency or granularity of the data. It involves adding more data points within the existing time intervals to create a higher-resolution representation of the time series.\n",
    "\n",
    "When upsampling, interpolation methods are commonly used to estimate the values of the new data points. Interpolation algorithms fill in the gaps between existing data points by calculating intermediate values based on the available information. \n",
    "\n",
    "There are various interpolation methods that can be used for upsampling time series data, such as linear interpolation, polynomial interpolation, spline interpolation, and more. The choice of interpolation method depends on the specific characteristics of the data and the desired accuracy of the upsampled series.\n",
    "\n",
    "Upsampling can be useful in situations where a higher frequency or more detailed analysis is required, or when aligning data from different sources with different frequencies."
   ]
  },
  {
   "cell_type": "code",
   "execution_count": 106,
   "id": "b9584a8a",
   "metadata": {},
   "outputs": [
    {
     "data": {
      "text/plain": [
       "2023-01-01 00:00:00.000     37.0\n",
       "2023-01-01 00:00:00.250      NaN\n",
       "2023-01-01 00:00:00.500      NaN\n",
       "2023-01-01 00:00:00.750      NaN\n",
       "2023-01-01 00:00:01.000     19.0\n",
       "                           ...  \n",
       "2023-01-01 00:16:38.000    250.0\n",
       "2023-01-01 00:16:38.250      NaN\n",
       "2023-01-01 00:16:38.500      NaN\n",
       "2023-01-01 00:16:38.750      NaN\n",
       "2023-01-01 00:16:39.000    118.0\n",
       "Freq: 250L, Length: 3997, dtype: float64"
      ]
     },
     "execution_count": 106,
     "metadata": {},
     "output_type": "execute_result"
    }
   ],
   "source": [
    "ts.resample('250L').asfreq()"
   ]
  },
  {
   "cell_type": "code",
   "execution_count": 107,
   "id": "2dc0ce49",
   "metadata": {},
   "outputs": [
    {
     "data": {
      "text/plain": [
       "2023-01-01 00:00:00.000     37\n",
       "2023-01-01 00:00:00.250     37\n",
       "2023-01-01 00:00:00.500     37\n",
       "2023-01-01 00:00:00.750     37\n",
       "2023-01-01 00:00:01.000     19\n",
       "                          ... \n",
       "2023-01-01 00:16:38.000    250\n",
       "2023-01-01 00:16:38.250    250\n",
       "2023-01-01 00:16:38.500    250\n",
       "2023-01-01 00:16:38.750    250\n",
       "2023-01-01 00:16:39.000    118\n",
       "Freq: 250L, Length: 3997, dtype: int32"
      ]
     },
     "execution_count": 107,
     "metadata": {},
     "output_type": "execute_result"
    }
   ],
   "source": [
    "ts.resample('250L').ffill()"
   ]
  },
  {
   "cell_type": "code",
   "execution_count": 108,
   "id": "5ada53cd",
   "metadata": {},
   "outputs": [
    {
     "data": {
      "text/plain": [
       "2023-01-01 00:00:00.000     37.0\n",
       "2023-01-01 00:00:00.250     37.0\n",
       "2023-01-01 00:00:00.500     37.0\n",
       "2023-01-01 00:00:00.750      NaN\n",
       "2023-01-01 00:00:01.000     19.0\n",
       "                           ...  \n",
       "2023-01-01 00:16:38.000    250.0\n",
       "2023-01-01 00:16:38.250    250.0\n",
       "2023-01-01 00:16:38.500    250.0\n",
       "2023-01-01 00:16:38.750      NaN\n",
       "2023-01-01 00:16:39.000    118.0\n",
       "Freq: 250L, Length: 3997, dtype: float64"
      ]
     },
     "execution_count": 108,
     "metadata": {},
     "output_type": "execute_result"
    }
   ],
   "source": [
    "ts.resample('250L').ffill(limit = 2)"
   ]
  },
  {
   "cell_type": "markdown",
   "id": "fc57f948",
   "metadata": {},
   "source": [
    "## Aggregation \n",
    "\n",
    "\n",
    "Similar to the aggregating API, groupby API, and window methods API, the Resampler also supports related methods. When resampling a DataFrame, the default behavior is to operate on all columns with the same function."
   ]
  },
  {
   "cell_type": "code",
   "execution_count": 109,
   "id": "6a83406d",
   "metadata": {},
   "outputs": [
    {
     "data": {
      "text/html": [
       "<div>\n",
       "<style scoped>\n",
       "    .dataframe tbody tr th:only-of-type {\n",
       "        vertical-align: middle;\n",
       "    }\n",
       "\n",
       "    .dataframe tbody tr th {\n",
       "        vertical-align: top;\n",
       "    }\n",
       "\n",
       "    .dataframe thead th {\n",
       "        text-align: right;\n",
       "    }\n",
       "</style>\n",
       "<table border=\"1\" class=\"dataframe\">\n",
       "  <thead>\n",
       "    <tr style=\"text-align: right;\">\n",
       "      <th></th>\n",
       "      <th>A</th>\n",
       "      <th>B</th>\n",
       "      <th>C</th>\n",
       "    </tr>\n",
       "  </thead>\n",
       "  <tbody>\n",
       "    <tr>\n",
       "      <th>2023-01-01 00:00:00</th>\n",
       "      <td>-2.214071</td>\n",
       "      <td>1.415934</td>\n",
       "      <td>-0.389713</td>\n",
       "    </tr>\n",
       "    <tr>\n",
       "      <th>2023-01-01 00:00:01</th>\n",
       "      <td>-0.286658</td>\n",
       "      <td>0.312630</td>\n",
       "      <td>1.770748</td>\n",
       "    </tr>\n",
       "    <tr>\n",
       "      <th>2023-01-01 00:00:02</th>\n",
       "      <td>1.105574</td>\n",
       "      <td>-1.583992</td>\n",
       "      <td>-0.256122</td>\n",
       "    </tr>\n",
       "    <tr>\n",
       "      <th>2023-01-01 00:00:03</th>\n",
       "      <td>0.636609</td>\n",
       "      <td>-0.880157</td>\n",
       "      <td>-0.718622</td>\n",
       "    </tr>\n",
       "    <tr>\n",
       "      <th>2023-01-01 00:00:04</th>\n",
       "      <td>-0.772166</td>\n",
       "      <td>-0.206349</td>\n",
       "      <td>0.491622</td>\n",
       "    </tr>\n",
       "    <tr>\n",
       "      <th>...</th>\n",
       "      <td>...</td>\n",
       "      <td>...</td>\n",
       "      <td>...</td>\n",
       "    </tr>\n",
       "    <tr>\n",
       "      <th>2023-01-01 00:16:35</th>\n",
       "      <td>-1.079877</td>\n",
       "      <td>-0.632550</td>\n",
       "      <td>0.849259</td>\n",
       "    </tr>\n",
       "    <tr>\n",
       "      <th>2023-01-01 00:16:36</th>\n",
       "      <td>0.156982</td>\n",
       "      <td>1.473091</td>\n",
       "      <td>0.340314</td>\n",
       "    </tr>\n",
       "    <tr>\n",
       "      <th>2023-01-01 00:16:37</th>\n",
       "      <td>-0.221105</td>\n",
       "      <td>2.280897</td>\n",
       "      <td>0.264965</td>\n",
       "    </tr>\n",
       "    <tr>\n",
       "      <th>2023-01-01 00:16:38</th>\n",
       "      <td>-0.684674</td>\n",
       "      <td>-0.185430</td>\n",
       "      <td>0.516887</td>\n",
       "    </tr>\n",
       "    <tr>\n",
       "      <th>2023-01-01 00:16:39</th>\n",
       "      <td>-0.732724</td>\n",
       "      <td>-1.212259</td>\n",
       "      <td>-0.851223</td>\n",
       "    </tr>\n",
       "  </tbody>\n",
       "</table>\n",
       "<p>1000 rows × 3 columns</p>\n",
       "</div>"
      ],
      "text/plain": [
       "                            A         B         C\n",
       "2023-01-01 00:00:00 -2.214071  1.415934 -0.389713\n",
       "2023-01-01 00:00:01 -0.286658  0.312630  1.770748\n",
       "2023-01-01 00:00:02  1.105574 -1.583992 -0.256122\n",
       "2023-01-01 00:00:03  0.636609 -0.880157 -0.718622\n",
       "2023-01-01 00:00:04 -0.772166 -0.206349  0.491622\n",
       "...                       ...       ...       ...\n",
       "2023-01-01 00:16:35 -1.079877 -0.632550  0.849259\n",
       "2023-01-01 00:16:36  0.156982  1.473091  0.340314\n",
       "2023-01-01 00:16:37 -0.221105  2.280897  0.264965\n",
       "2023-01-01 00:16:38 -0.684674 -0.185430  0.516887\n",
       "2023-01-01 00:16:39 -0.732724 -1.212259 -0.851223\n",
       "\n",
       "[1000 rows x 3 columns]"
      ]
     },
     "execution_count": 109,
     "metadata": {},
     "output_type": "execute_result"
    }
   ],
   "source": [
    "df = pd.DataFrame(np.random.randn(1000, 3),\n",
    "                  index = pd.date_range('1/1/2023', freq='S', periods = 1000),\n",
    "                  columns = ['A', 'B', 'C'])\n",
    "df\n"
   ]
  },
  {
   "cell_type": "code",
   "execution_count": 110,
   "id": "f3dc0d40",
   "metadata": {},
   "outputs": [
    {
     "data": {
      "text/html": [
       "<div>\n",
       "<style scoped>\n",
       "    .dataframe tbody tr th:only-of-type {\n",
       "        vertical-align: middle;\n",
       "    }\n",
       "\n",
       "    .dataframe tbody tr th {\n",
       "        vertical-align: top;\n",
       "    }\n",
       "\n",
       "    .dataframe thead th {\n",
       "        text-align: right;\n",
       "    }\n",
       "</style>\n",
       "<table border=\"1\" class=\"dataframe\">\n",
       "  <thead>\n",
       "    <tr style=\"text-align: right;\">\n",
       "      <th></th>\n",
       "      <th>A</th>\n",
       "      <th>B</th>\n",
       "      <th>C</th>\n",
       "    </tr>\n",
       "  </thead>\n",
       "  <tbody>\n",
       "    <tr>\n",
       "      <th>2023-01-01 00:00:00</th>\n",
       "      <td>-0.130677</td>\n",
       "      <td>0.016028</td>\n",
       "      <td>0.072004</td>\n",
       "    </tr>\n",
       "    <tr>\n",
       "      <th>2023-01-01 00:03:00</th>\n",
       "      <td>0.050898</td>\n",
       "      <td>-0.083788</td>\n",
       "      <td>0.011909</td>\n",
       "    </tr>\n",
       "    <tr>\n",
       "      <th>2023-01-01 00:06:00</th>\n",
       "      <td>-0.107633</td>\n",
       "      <td>-0.064984</td>\n",
       "      <td>-0.006415</td>\n",
       "    </tr>\n",
       "    <tr>\n",
       "      <th>2023-01-01 00:09:00</th>\n",
       "      <td>-0.079010</td>\n",
       "      <td>0.045580</td>\n",
       "      <td>0.104976</td>\n",
       "    </tr>\n",
       "    <tr>\n",
       "      <th>2023-01-01 00:12:00</th>\n",
       "      <td>-0.033693</td>\n",
       "      <td>-0.046964</td>\n",
       "      <td>0.136211</td>\n",
       "    </tr>\n",
       "    <tr>\n",
       "      <th>2023-01-01 00:15:00</th>\n",
       "      <td>0.097840</td>\n",
       "      <td>0.019709</td>\n",
       "      <td>0.145783</td>\n",
       "    </tr>\n",
       "  </tbody>\n",
       "</table>\n",
       "</div>"
      ],
      "text/plain": [
       "                            A         B         C\n",
       "2023-01-01 00:00:00 -0.130677  0.016028  0.072004\n",
       "2023-01-01 00:03:00  0.050898 -0.083788  0.011909\n",
       "2023-01-01 00:06:00 -0.107633 -0.064984 -0.006415\n",
       "2023-01-01 00:09:00 -0.079010  0.045580  0.104976\n",
       "2023-01-01 00:12:00 -0.033693 -0.046964  0.136211\n",
       "2023-01-01 00:15:00  0.097840  0.019709  0.145783"
      ]
     },
     "execution_count": 110,
     "metadata": {},
     "output_type": "execute_result"
    }
   ],
   "source": [
    "df.resample('3T').mean()  # a frequency of 3 minitues"
   ]
  },
  {
   "cell_type": "code",
   "execution_count": 111,
   "id": "274ce464",
   "metadata": {},
   "outputs": [
    {
     "data": {
      "text/plain": [
       "2023-01-01 00:00:00   -0.130677\n",
       "2023-01-01 00:03:00    0.050898\n",
       "2023-01-01 00:06:00   -0.107633\n",
       "2023-01-01 00:09:00   -0.079010\n",
       "2023-01-01 00:12:00   -0.033693\n",
       "2023-01-01 00:15:00    0.097840\n",
       "Freq: 3T, Name: A, dtype: float64"
      ]
     },
     "execution_count": 111,
     "metadata": {},
     "output_type": "execute_result"
    }
   ],
   "source": [
    "df.resample('3T')['A'].mean()  # Look at column A"
   ]
  },
  {
   "cell_type": "code",
   "execution_count": 112,
   "id": "c22dbeff",
   "metadata": {},
   "outputs": [
    {
     "data": {
      "text/html": [
       "<div>\n",
       "<style scoped>\n",
       "    .dataframe tbody tr th:only-of-type {\n",
       "        vertical-align: middle;\n",
       "    }\n",
       "\n",
       "    .dataframe tbody tr th {\n",
       "        vertical-align: top;\n",
       "    }\n",
       "\n",
       "    .dataframe thead th {\n",
       "        text-align: right;\n",
       "    }\n",
       "</style>\n",
       "<table border=\"1\" class=\"dataframe\">\n",
       "  <thead>\n",
       "    <tr style=\"text-align: right;\">\n",
       "      <th></th>\n",
       "      <th>A</th>\n",
       "      <th>B</th>\n",
       "    </tr>\n",
       "  </thead>\n",
       "  <tbody>\n",
       "    <tr>\n",
       "      <th>2023-01-01 00:00:00</th>\n",
       "      <td>-0.130677</td>\n",
       "      <td>0.016028</td>\n",
       "    </tr>\n",
       "    <tr>\n",
       "      <th>2023-01-01 00:03:00</th>\n",
       "      <td>0.050898</td>\n",
       "      <td>-0.083788</td>\n",
       "    </tr>\n",
       "    <tr>\n",
       "      <th>2023-01-01 00:06:00</th>\n",
       "      <td>-0.107633</td>\n",
       "      <td>-0.064984</td>\n",
       "    </tr>\n",
       "    <tr>\n",
       "      <th>2023-01-01 00:09:00</th>\n",
       "      <td>-0.079010</td>\n",
       "      <td>0.045580</td>\n",
       "    </tr>\n",
       "    <tr>\n",
       "      <th>2023-01-01 00:12:00</th>\n",
       "      <td>-0.033693</td>\n",
       "      <td>-0.046964</td>\n",
       "    </tr>\n",
       "    <tr>\n",
       "      <th>2023-01-01 00:15:00</th>\n",
       "      <td>0.097840</td>\n",
       "      <td>0.019709</td>\n",
       "    </tr>\n",
       "  </tbody>\n",
       "</table>\n",
       "</div>"
      ],
      "text/plain": [
       "                            A         B\n",
       "2023-01-01 00:00:00 -0.130677  0.016028\n",
       "2023-01-01 00:03:00  0.050898 -0.083788\n",
       "2023-01-01 00:06:00 -0.107633 -0.064984\n",
       "2023-01-01 00:09:00 -0.079010  0.045580\n",
       "2023-01-01 00:12:00 -0.033693 -0.046964\n",
       "2023-01-01 00:15:00  0.097840  0.019709"
      ]
     },
     "execution_count": 112,
     "metadata": {},
     "output_type": "execute_result"
    }
   ],
   "source": [
    "df.resample('3T')[['A', 'B']].mean()  "
   ]
  },
  {
   "cell_type": "code",
   "execution_count": 113,
   "id": "6565e902",
   "metadata": {},
   "outputs": [
    {
     "data": {
      "text/html": [
       "<div>\n",
       "<style scoped>\n",
       "    .dataframe tbody tr th:only-of-type {\n",
       "        vertical-align: middle;\n",
       "    }\n",
       "\n",
       "    .dataframe tbody tr th {\n",
       "        vertical-align: top;\n",
       "    }\n",
       "\n",
       "    .dataframe thead tr th {\n",
       "        text-align: left;\n",
       "    }\n",
       "</style>\n",
       "<table border=\"1\" class=\"dataframe\">\n",
       "  <thead>\n",
       "    <tr>\n",
       "      <th></th>\n",
       "      <th colspan=\"3\" halign=\"left\">A</th>\n",
       "      <th colspan=\"3\" halign=\"left\">B</th>\n",
       "      <th colspan=\"3\" halign=\"left\">C</th>\n",
       "    </tr>\n",
       "    <tr>\n",
       "      <th></th>\n",
       "      <th>sum</th>\n",
       "      <th>mean</th>\n",
       "      <th>std</th>\n",
       "      <th>sum</th>\n",
       "      <th>mean</th>\n",
       "      <th>std</th>\n",
       "      <th>sum</th>\n",
       "      <th>mean</th>\n",
       "      <th>std</th>\n",
       "    </tr>\n",
       "  </thead>\n",
       "  <tbody>\n",
       "    <tr>\n",
       "      <th>2023-01-01 00:00:00</th>\n",
       "      <td>-23.521948</td>\n",
       "      <td>-0.130677</td>\n",
       "      <td>1.004843</td>\n",
       "      <td>2.885108</td>\n",
       "      <td>0.016028</td>\n",
       "      <td>1.015452</td>\n",
       "      <td>12.960693</td>\n",
       "      <td>0.072004</td>\n",
       "      <td>1.024101</td>\n",
       "    </tr>\n",
       "    <tr>\n",
       "      <th>2023-01-01 00:03:00</th>\n",
       "      <td>9.161612</td>\n",
       "      <td>0.050898</td>\n",
       "      <td>0.959286</td>\n",
       "      <td>-15.081764</td>\n",
       "      <td>-0.083788</td>\n",
       "      <td>0.980968</td>\n",
       "      <td>2.143633</td>\n",
       "      <td>0.011909</td>\n",
       "      <td>1.007918</td>\n",
       "    </tr>\n",
       "    <tr>\n",
       "      <th>2023-01-01 00:06:00</th>\n",
       "      <td>-19.373892</td>\n",
       "      <td>-0.107633</td>\n",
       "      <td>1.048525</td>\n",
       "      <td>-11.697194</td>\n",
       "      <td>-0.064984</td>\n",
       "      <td>1.006264</td>\n",
       "      <td>-1.154635</td>\n",
       "      <td>-0.006415</td>\n",
       "      <td>1.007865</td>\n",
       "    </tr>\n",
       "    <tr>\n",
       "      <th>2023-01-01 00:09:00</th>\n",
       "      <td>-14.221719</td>\n",
       "      <td>-0.079010</td>\n",
       "      <td>1.037311</td>\n",
       "      <td>8.204469</td>\n",
       "      <td>0.045580</td>\n",
       "      <td>0.992663</td>\n",
       "      <td>18.895648</td>\n",
       "      <td>0.104976</td>\n",
       "      <td>1.003610</td>\n",
       "    </tr>\n",
       "    <tr>\n",
       "      <th>2023-01-01 00:12:00</th>\n",
       "      <td>-6.064726</td>\n",
       "      <td>-0.033693</td>\n",
       "      <td>1.074561</td>\n",
       "      <td>-8.453584</td>\n",
       "      <td>-0.046964</td>\n",
       "      <td>1.068029</td>\n",
       "      <td>24.517980</td>\n",
       "      <td>0.136211</td>\n",
       "      <td>0.972822</td>\n",
       "    </tr>\n",
       "    <tr>\n",
       "      <th>2023-01-01 00:15:00</th>\n",
       "      <td>9.784048</td>\n",
       "      <td>0.097840</td>\n",
       "      <td>0.961040</td>\n",
       "      <td>1.970908</td>\n",
       "      <td>0.019709</td>\n",
       "      <td>0.992024</td>\n",
       "      <td>14.578339</td>\n",
       "      <td>0.145783</td>\n",
       "      <td>0.981450</td>\n",
       "    </tr>\n",
       "  </tbody>\n",
       "</table>\n",
       "</div>"
      ],
      "text/plain": [
       "                             A                              B            \\\n",
       "                           sum      mean       std        sum      mean   \n",
       "2023-01-01 00:00:00 -23.521948 -0.130677  1.004843   2.885108  0.016028   \n",
       "2023-01-01 00:03:00   9.161612  0.050898  0.959286 -15.081764 -0.083788   \n",
       "2023-01-01 00:06:00 -19.373892 -0.107633  1.048525 -11.697194 -0.064984   \n",
       "2023-01-01 00:09:00 -14.221719 -0.079010  1.037311   8.204469  0.045580   \n",
       "2023-01-01 00:12:00  -6.064726 -0.033693  1.074561  -8.453584 -0.046964   \n",
       "2023-01-01 00:15:00   9.784048  0.097840  0.961040   1.970908  0.019709   \n",
       "\n",
       "                                       C                      \n",
       "                          std        sum      mean       std  \n",
       "2023-01-01 00:00:00  1.015452  12.960693  0.072004  1.024101  \n",
       "2023-01-01 00:03:00  0.980968   2.143633  0.011909  1.007918  \n",
       "2023-01-01 00:06:00  1.006264  -1.154635 -0.006415  1.007865  \n",
       "2023-01-01 00:09:00  0.992663  18.895648  0.104976  1.003610  \n",
       "2023-01-01 00:12:00  1.068029  24.517980  0.136211  0.972822  \n",
       "2023-01-01 00:15:00  0.992024  14.578339  0.145783  0.981450  "
      ]
     },
     "execution_count": 113,
     "metadata": {},
     "output_type": "execute_result"
    }
   ],
   "source": [
    "df.resample('3T').agg([np.sum, np.mean, np.std])  # Multiple aggregation function"
   ]
  },
  {
   "attachments": {
    "rolling.gif": {
     "image/gif": "[encoded data removed]"
    }
   },
   "cell_type": "markdown",
   "id": "3aaa15a0",
   "metadata": {},
   "source": [
    "# Time Window\n",
    "\n",
    "Pandas provides several window functions for processing numerical data, such as `rolling()`, `expanding()`, and exponentially weighted moving average (`ewm()`). These functions can be combined with appropriate statistical functions, such as `sum`, `median`, `mean`, `covariance`, `variance`, and `correlation`.\n",
    "\n",
    "##### Understanding Windows:\n",
    "\n",
    "A \"window\" can be thought of as a collection or group. In statistical analysis, we often need different \"windows\" for calculations. For example, in a department, we may calculate averages or rankings within different groups. Similarly, in time series data, we may group data into 5-day windows or monthly windows and perform calculations such as sorting or finding the median.\n",
    "\n",
    "`rolling(10)` is similar to `groupby`, but instead of grouping, it creates a sliding window object that moves by 10 (days). We can then perform statistical operations on each object.\n",
    "\n",
    "expanding starts from the beginning of the data (usually time) and gradually expands the window until a specified size is reached.\n",
    "\n",
    "`rolling(10)` and expanding are similar in concept, but they differ in how the window is defined and moves.\n",
    "\n",
    "![rolling.gif](attachment:rolling.gif)\n",
    "\n"
   ]
  },
  {
   "attachments": {
    "expanding.gif": {
     "image/gif": "[encoded data removed]"
    }
   },
   "cell_type": "markdown",
   "id": "278725de",
   "metadata": {},
   "source": [
    "![expanding.gif](attachment:expanding.gif)"
   ]
  },
  {
   "cell_type": "markdown",
   "id": "7bae69cb",
   "metadata": {},
   "source": [
    "\n",
    "##### Exponential weighted functions:\n",
    "\n",
    "Exponential weighted functions, such as Exponential Moving Average (EMA) or Weighted Moving Average (WMA), assign different weights to the data within a group. The weights are usually exponentially decreasing, meaning that more recent data points have higher weights compared to older data points. This allows for more emphasis on recent information in calculations.\n",
    "\n",
    "EMA is commonly used in financial analysis and forecasting. It provides a smoothed average of a time series by assigning higher weights to more recent observations. The weights decay exponentially as the observations get older.\n",
    "\n",
    "Gradient descent is an optimization algorithm that calculates the exponential weighted average of gradients. It uses this average to update the weights, making it faster than standard gradient descent. The exponential weighting of the gradients allows the algorithm to adapt and converge to the optimal solution more efficiently."
   ]
  },
  {
   "cell_type": "markdown",
   "id": "1b3cbe38",
   "metadata": {},
   "source": [
    "## `Rolling()`\n",
    "The `.rolling()` function, also known as the rolling window function, is used to apply calculations to a series of data by specifying the parameter window=n. It creates a rolling window of size n and applies an appropriate statistical function to the window."
   ]
  },
  {
   "cell_type": "markdown",
   "id": "f1c07e34",
   "metadata": {},
   "source": [
    "### Create Rolling Object"
   ]
  },
  {
   "cell_type": "code",
   "execution_count": 114,
   "id": "eb758ab4",
   "metadata": {},
   "outputs": [
    {
     "data": {
      "text/plain": [
       "2023-01-01     0.471435\n",
       "2023-01-02    -0.719541\n",
       "2023-01-03     0.713166\n",
       "2023-01-04     0.400515\n",
       "2023-01-05    -0.320074\n",
       "                ...    \n",
       "2025-09-22    14.542595\n",
       "2025-09-23    15.474141\n",
       "2025-09-24    15.801673\n",
       "2025-09-25    16.542487\n",
       "2025-09-26    15.740582\n",
       "Freq: D, Length: 1000, dtype: float64"
      ]
     },
     "execution_count": 114,
     "metadata": {},
     "output_type": "execute_result"
    }
   ],
   "source": [
    "np.random.seed(1234)\n",
    "s = pd.Series(np.random.randn(1000),\n",
    "              index = pd.date_range('1/1/2023', periods=1000))\n",
    "\n",
    "s = s.cumsum()\n",
    "s"
   ]
  },
  {
   "cell_type": "code",
   "execution_count": 115,
   "id": "a2daf6fc",
   "metadata": {},
   "outputs": [
    {
     "data": {
      "text/plain": [
       "Rolling [window=60,center=False,axis=0,method=single]"
      ]
     },
     "execution_count": 115,
     "metadata": {},
     "output_type": "execute_result"
    }
   ],
   "source": [
    "rolling = s.rolling(window = 60)\n",
    "rolling "
   ]
  },
  {
   "cell_type": "markdown",
   "id": "13562ef9",
   "metadata": {},
   "source": [
    "### Parameters\n",
    "When creating a rolling window object using `.rolling()`, it supports the following parameters:\n",
    "\n",
    "* `window`: The size of the rolling window. This can be an integer representing the number of observations or a string representing a time-based offset.\n",
    "* `min_periods`: The minimum number of non-null observations required to have a value. If the number of non-null observations within the window is below min_periods, the result will be `NaN`.\n",
    "* `center`: A boolean value indicating whether the label of the window should be the center of the window. By default, it is set to False, meaning the label represents the right edge of the window.\n",
    "* `win_type`: The type of window function to use. It can be a string representing a predefined window function, such as `boxcar`, `triang`, `hamming`, `bartlett`, etc., or it can be a callable function to define a custom window function.\n",
    "* `on`: For DataFrame objects, the column name or index level name to apply the rolling operation on. If not specified, the operation will be applied to all columns or levels.\n",
    "* `axis`: The axis along which the rolling operation is applied. By default, it is set to 0 (index-wise operation)."
   ]
  },
  {
   "cell_type": "code",
   "execution_count": 116,
   "id": "c1417109",
   "metadata": {},
   "outputs": [
    {
     "data": {
      "text/plain": [
       "2023-01-01          NaN\n",
       "2023-01-02          NaN\n",
       "2023-01-03          NaN\n",
       "2023-01-04          NaN\n",
       "2023-01-05     0.183645\n",
       "                ...    \n",
       "2025-09-22    15.212086\n",
       "2025-09-23    14.858105\n",
       "2025-09-24    14.860591\n",
       "2025-09-25    15.324875\n",
       "2025-09-26    15.746828\n",
       "Freq: D, Length: 1000, dtype: float64"
      ]
     },
     "execution_count": 116,
     "metadata": {},
     "output_type": "execute_result"
    }
   ],
   "source": [
    "s.rolling(window = 5, win_type  = 'triang').mean() #triangular weighting function."
   ]
  },
  {
   "cell_type": "code",
   "execution_count": 117,
   "id": "decb6743",
   "metadata": {},
   "outputs": [
    {
     "data": {
      "text/plain": [
       "2023-01-01          NaN\n",
       "2023-01-02          NaN\n",
       "2023-01-03          NaN\n",
       "2023-01-04          NaN\n",
       "2023-01-05     0.713166\n",
       "                ...    \n",
       "2025-09-22    14.826711\n",
       "2025-09-23    14.270431\n",
       "2025-09-24    14.542595\n",
       "2025-09-25    15.474141\n",
       "2025-09-26    15.801673\n",
       "Freq: D, Length: 1000, dtype: float64"
      ]
     },
     "execution_count": 117,
     "metadata": {},
     "output_type": "execute_result"
    }
   ],
   "source": [
    "s.rolling(window = 5, win_type = 'gaussian').mean(std = 0.1) # Gaussian window function,"
   ]
  },
  {
   "cell_type": "markdown",
   "id": "4c48f1f9",
   "metadata": {},
   "source": [
    "### Statistics\n"
   ]
  },
  {
   "cell_type": "code",
   "execution_count": 118,
   "id": "c39b6916",
   "metadata": {},
   "outputs": [
    {
     "data": {
      "text/plain": [
       "2023-01-01          NaN\n",
       "2023-01-02          NaN\n",
       "2023-01-03          NaN\n",
       "2023-01-04          NaN\n",
       "2023-01-05          NaN\n",
       "                ...    \n",
       "2025-09-22    14.842707\n",
       "2025-09-23    14.910714\n",
       "2025-09-24    14.989160\n",
       "2025-09-25    15.057519\n",
       "2025-09-26    15.102065\n",
       "Freq: D, Length: 1000, dtype: float64"
      ]
     },
     "execution_count": 118,
     "metadata": {},
     "output_type": "execute_result"
    }
   ],
   "source": [
    "rolling.mean()"
   ]
  },
  {
   "cell_type": "code",
   "execution_count": 119,
   "id": "f452baf9",
   "metadata": {},
   "outputs": [
    {
     "data": {
      "text/plain": [
       "<AxesSubplot: >"
      ]
     },
     "execution_count": 119,
     "metadata": {},
     "output_type": "execute_result"
    },
    {
     "data": {
      "image/png": "[encoded data removed]",
      "text/plain": [
       "<Figure size 640x480 with 1 Axes>"
      ]
     },
     "metadata": {},
     "output_type": "display_data"
    }
   ],
   "source": [
    "s.plot(style = 'k--')"
   ]
  },
  {
   "cell_type": "code",
   "execution_count": 120,
   "id": "656295a7",
   "metadata": {},
   "outputs": [
    {
     "data": {
      "text/plain": [
       "<AxesSubplot: >"
      ]
     },
     "execution_count": 120,
     "metadata": {},
     "output_type": "execute_result"
    },
    {
     "data": {
      "image/png": "[encoded data removed]",
      "text/plain": [
       "<Figure size 640x480 with 1 Axes>"
      ]
     },
     "metadata": {},
     "output_type": "display_data"
    }
   ],
   "source": [
    "rolling.mean().plot(style = 'k')"
   ]
  },
  {
   "cell_type": "markdown",
   "id": "edd229c9",
   "metadata": {},
   "source": [
    "### DataFrame Application"
   ]
  },
  {
   "cell_type": "code",
   "execution_count": 121,
   "id": "ef9379fa",
   "metadata": {},
   "outputs": [],
   "source": [
    "df = pd.DataFrame(np.random.randn(1000, 4),\n",
    "                  index = pd.date_range('1/1/2023', periods = 1000),\n",
    "                  columns = ['A', 'B', 'C', 'D'])\n",
    "\n",
    "df = df.cumsum()"
   ]
  },
  {
   "cell_type": "code",
   "execution_count": 122,
   "id": "78376e6d",
   "metadata": {},
   "outputs": [
    {
     "data": {
      "text/plain": [
       "array([<AxesSubplot: >, <AxesSubplot: >, <AxesSubplot: >, <AxesSubplot: >],\n",
       "      dtype=object)"
      ]
     },
     "execution_count": 122,
     "metadata": {},
     "output_type": "execute_result"
    },
    {
     "data": {
      "image/png": "[encoded data removed]",
      "text/plain": [
       "<Figure size 640x480 with 4 Axes>"
      ]
     },
     "metadata": {},
     "output_type": "display_data"
    }
   ],
   "source": [
    "df.rolling(window = 60).mean().plot(subplots = True)"
   ]
  },
  {
   "cell_type": "markdown",
   "id": "6c8df77a",
   "metadata": {},
   "source": [
    "### Statistical method\n",
    "| Method   | Description                                 |\n",
    "|----------|---------------------------------------------|\n",
    "| count()  | Number of non-null observations             |\n",
    "| sum()    | Sum of values                               |\n",
    "| mean()   | Mean of values                              |\n",
    "| median() | Arithmetic median of values                 |\n",
    "| min()    | Minimum                                     |\n",
    "| max()    | Maximum                                     |\n",
    "| std()    | Bessel-corrected sample standard deviation  |\n",
    "| var()    | Unbiased variance                           |\n",
    "| skew()   | Sample skewness (3rd moment)                |\n",
    "| kurt()   | Sample kurtosis (4th moment)                |\n",
    "| quantile()| Sample quantile (value at %)                |\n"
   ]
  },
  {
   "cell_type": "markdown",
   "id": "43df2a23",
   "metadata": {},
   "source": [
    "### `apply()`"
   ]
  },
  {
   "cell_type": "code",
   "execution_count": 123,
   "id": "e5bfd51a",
   "metadata": {},
   "outputs": [
    {
     "data": {
      "text/plain": [
       "<AxesSubplot: >"
      ]
     },
     "execution_count": 123,
     "metadata": {},
     "output_type": "execute_result"
    },
    {
     "data": {
      "image/png": "[encoded data removed]",
      "text/plain": [
       "<Figure size 640x480 with 1 Axes>"
      ]
     },
     "metadata": {},
     "output_type": "display_data"
    }
   ],
   "source": [
    "def mad(x):\n",
    "    return np.fabs(x - x.mean()).mean()\n",
    "s.rolling(window = 60).apply(mad, raw = True).plot(style = 'k')"
   ]
  },
  {
   "cell_type": "markdown",
   "id": "706c2f58",
   "metadata": {},
   "source": [
    "### Time type moving windows\n",
    " To create a rolling window with a variable size based on a time window, we can pass an offset (or convertible) to the `.rolling()` method in pandas. This will generate windows of varying sizes based on the passed time window. It includes all the preceding values within the specified time increment for each time point."
   ]
  },
  {
   "cell_type": "code",
   "execution_count": 124,
   "id": "cfba457a",
   "metadata": {},
   "outputs": [
    {
     "data": {
      "text/html": [
       "<div>\n",
       "<style scoped>\n",
       "    .dataframe tbody tr th:only-of-type {\n",
       "        vertical-align: middle;\n",
       "    }\n",
       "\n",
       "    .dataframe tbody tr th {\n",
       "        vertical-align: top;\n",
       "    }\n",
       "\n",
       "    .dataframe thead th {\n",
       "        text-align: right;\n",
       "    }\n",
       "</style>\n",
       "<table border=\"1\" class=\"dataframe\">\n",
       "  <thead>\n",
       "    <tr style=\"text-align: right;\">\n",
       "      <th></th>\n",
       "      <th>A</th>\n",
       "    </tr>\n",
       "  </thead>\n",
       "  <tbody>\n",
       "    <tr>\n",
       "      <th>2013-01-01 09:00:00</th>\n",
       "      <td>0.0</td>\n",
       "    </tr>\n",
       "    <tr>\n",
       "      <th>2013-01-01 09:00:01</th>\n",
       "      <td>1.0</td>\n",
       "    </tr>\n",
       "    <tr>\n",
       "      <th>2013-01-01 09:00:02</th>\n",
       "      <td>2.0</td>\n",
       "    </tr>\n",
       "    <tr>\n",
       "      <th>2013-01-01 09:00:03</th>\n",
       "      <td>NaN</td>\n",
       "    </tr>\n",
       "    <tr>\n",
       "      <th>2013-01-01 09:00:04</th>\n",
       "      <td>4.0</td>\n",
       "    </tr>\n",
       "  </tbody>\n",
       "</table>\n",
       "</div>"
      ],
      "text/plain": [
       "                       A\n",
       "2013-01-01 09:00:00  0.0\n",
       "2013-01-01 09:00:01  1.0\n",
       "2013-01-01 09:00:02  2.0\n",
       "2013-01-01 09:00:03  NaN\n",
       "2013-01-01 09:00:04  4.0"
      ]
     },
     "execution_count": 124,
     "metadata": {},
     "output_type": "execute_result"
    }
   ],
   "source": [
    "dft = pd.DataFrame({'A': [0, 1, 2, np.nan, 4]},\n",
    "                   index = pd.date_range('20130101 09:00:00',\n",
    "                                       periods = 5,\n",
    "                                       freq ='s'))\n",
    "\n",
    "dft"
   ]
  },
  {
   "cell_type": "code",
   "execution_count": 125,
   "id": "95e22b2f",
   "metadata": {},
   "outputs": [
    {
     "data": {
      "text/html": [
       "<div>\n",
       "<style scoped>\n",
       "    .dataframe tbody tr th:only-of-type {\n",
       "        vertical-align: middle;\n",
       "    }\n",
       "\n",
       "    .dataframe tbody tr th {\n",
       "        vertical-align: top;\n",
       "    }\n",
       "\n",
       "    .dataframe thead th {\n",
       "        text-align: right;\n",
       "    }\n",
       "</style>\n",
       "<table border=\"1\" class=\"dataframe\">\n",
       "  <thead>\n",
       "    <tr style=\"text-align: right;\">\n",
       "      <th></th>\n",
       "      <th>A</th>\n",
       "    </tr>\n",
       "  </thead>\n",
       "  <tbody>\n",
       "    <tr>\n",
       "      <th>2013-01-01 09:00:00</th>\n",
       "      <td>NaN</td>\n",
       "    </tr>\n",
       "    <tr>\n",
       "      <th>2013-01-01 09:00:01</th>\n",
       "      <td>1.0</td>\n",
       "    </tr>\n",
       "    <tr>\n",
       "      <th>2013-01-01 09:00:02</th>\n",
       "      <td>3.0</td>\n",
       "    </tr>\n",
       "    <tr>\n",
       "      <th>2013-01-01 09:00:03</th>\n",
       "      <td>NaN</td>\n",
       "    </tr>\n",
       "    <tr>\n",
       "      <th>2013-01-01 09:00:04</th>\n",
       "      <td>NaN</td>\n",
       "    </tr>\n",
       "  </tbody>\n",
       "</table>\n",
       "</div>"
      ],
      "text/plain": [
       "                       A\n",
       "2013-01-01 09:00:00  NaN\n",
       "2013-01-01 09:00:01  1.0\n",
       "2013-01-01 09:00:02  3.0\n",
       "2013-01-01 09:00:03  NaN\n",
       "2013-01-01 09:00:04  NaN"
      ]
     },
     "execution_count": 125,
     "metadata": {},
     "output_type": "execute_result"
    }
   ],
   "source": [
    "dft.rolling(2).sum()"
   ]
  },
  {
   "cell_type": "markdown",
   "id": "38fc334c",
   "metadata": {},
   "source": [
    "`min_periods=1`: Specifies the minimum number of non-null values required for a valid calculation. In this case, since min_periods is set to 1, the rolling sum will be calculated even if only one non-null value is available in the window."
   ]
  },
  {
   "cell_type": "code",
   "execution_count": 126,
   "id": "66e5afcb",
   "metadata": {},
   "outputs": [
    {
     "data": {
      "text/html": [
       "<div>\n",
       "<style scoped>\n",
       "    .dataframe tbody tr th:only-of-type {\n",
       "        vertical-align: middle;\n",
       "    }\n",
       "\n",
       "    .dataframe tbody tr th {\n",
       "        vertical-align: top;\n",
       "    }\n",
       "\n",
       "    .dataframe thead th {\n",
       "        text-align: right;\n",
       "    }\n",
       "</style>\n",
       "<table border=\"1\" class=\"dataframe\">\n",
       "  <thead>\n",
       "    <tr style=\"text-align: right;\">\n",
       "      <th></th>\n",
       "      <th>A</th>\n",
       "    </tr>\n",
       "  </thead>\n",
       "  <tbody>\n",
       "    <tr>\n",
       "      <th>2013-01-01 09:00:00</th>\n",
       "      <td>0.0</td>\n",
       "    </tr>\n",
       "    <tr>\n",
       "      <th>2013-01-01 09:00:01</th>\n",
       "      <td>1.0</td>\n",
       "    </tr>\n",
       "    <tr>\n",
       "      <th>2013-01-01 09:00:02</th>\n",
       "      <td>3.0</td>\n",
       "    </tr>\n",
       "    <tr>\n",
       "      <th>2013-01-01 09:00:03</th>\n",
       "      <td>2.0</td>\n",
       "    </tr>\n",
       "    <tr>\n",
       "      <th>2013-01-01 09:00:04</th>\n",
       "      <td>4.0</td>\n",
       "    </tr>\n",
       "  </tbody>\n",
       "</table>\n",
       "</div>"
      ],
      "text/plain": [
       "                       A\n",
       "2013-01-01 09:00:00  0.0\n",
       "2013-01-01 09:00:01  1.0\n",
       "2013-01-01 09:00:02  3.0\n",
       "2013-01-01 09:00:03  2.0\n",
       "2013-01-01 09:00:04  4.0"
      ]
     },
     "execution_count": 126,
     "metadata": {},
     "output_type": "execute_result"
    }
   ],
   "source": [
    "dft.rolling(2, min_periods = 1).sum()"
   ]
  },
  {
   "cell_type": "code",
   "execution_count": 127,
   "id": "ccd7c472",
   "metadata": {},
   "outputs": [
    {
     "data": {
      "text/html": [
       "<div>\n",
       "<style scoped>\n",
       "    .dataframe tbody tr th:only-of-type {\n",
       "        vertical-align: middle;\n",
       "    }\n",
       "\n",
       "    .dataframe tbody tr th {\n",
       "        vertical-align: top;\n",
       "    }\n",
       "\n",
       "    .dataframe thead th {\n",
       "        text-align: right;\n",
       "    }\n",
       "</style>\n",
       "<table border=\"1\" class=\"dataframe\">\n",
       "  <thead>\n",
       "    <tr style=\"text-align: right;\">\n",
       "      <th></th>\n",
       "      <th>A</th>\n",
       "    </tr>\n",
       "  </thead>\n",
       "  <tbody>\n",
       "    <tr>\n",
       "      <th>2013-01-01 09:00:00</th>\n",
       "      <td>0.0</td>\n",
       "    </tr>\n",
       "    <tr>\n",
       "      <th>2013-01-01 09:00:01</th>\n",
       "      <td>1.0</td>\n",
       "    </tr>\n",
       "    <tr>\n",
       "      <th>2013-01-01 09:00:02</th>\n",
       "      <td>3.0</td>\n",
       "    </tr>\n",
       "    <tr>\n",
       "      <th>2013-01-01 09:00:03</th>\n",
       "      <td>2.0</td>\n",
       "    </tr>\n",
       "    <tr>\n",
       "      <th>2013-01-01 09:00:04</th>\n",
       "      <td>4.0</td>\n",
       "    </tr>\n",
       "  </tbody>\n",
       "</table>\n",
       "</div>"
      ],
      "text/plain": [
       "                       A\n",
       "2013-01-01 09:00:00  0.0\n",
       "2013-01-01 09:00:01  1.0\n",
       "2013-01-01 09:00:02  3.0\n",
       "2013-01-01 09:00:03  2.0\n",
       "2013-01-01 09:00:04  4.0"
      ]
     },
     "execution_count": 127,
     "metadata": {},
     "output_type": "execute_result"
    }
   ],
   "source": [
    "# Specify the frequency to 2s\n",
    "dft.rolling('2s').sum()"
   ]
  },
  {
   "cell_type": "markdown",
   "id": "66b22485",
   "metadata": {},
   "source": [
    "### `Rolling()` and `resample()`\n",
    "When using `.rolling()` with an offset, it functions similar to `resampling`. They both operate on Pandas objects with time-based indexing and perform aggregation operations.\n",
    "\n",
    "With `.rolling()` and an offset, you take a look-back window and summarize all the values within that window, including the endpoint but excluding the starting point. This becomes the new value at that time. These are time-aware variable-sized windows for each point in the input, resulting in an output of the same size as the input.\n",
    "\n",
    "With `.resample()` and an offset, we construct a new index that is offset by the frequency. For each frequency bin, we summarize the points within the window that rolls back in time from the resampling point. The aggregated result is the output at that frequency point. The window is fixed-sized in the frequency space. Your result will have a regular frequency shape between the minimum and maximum values of the original input object.\n",
    "\n",
    "In summary, `.rolling()` performs time-based window operations, while `.resample()` performs frequency-based window operations. They have slightly different behavior in terms of how the windows are defined and how the aggregation is performed. Both can be useful for analyzing time series data depending on your specific requirements."
   ]
  },
  {
   "cell_type": "markdown",
   "id": "f6a7e339",
   "metadata": {},
   "source": [
    "## Expanding\n",
    "An alternative to rolling statistics is using expanding windows. Expanding windows provide the value of the statistic at each time point along with all the available data up to that point.\n",
    "\n",
    "In contrast to rolling windows that have a fixed size, expanding windows start from the beginning of the data and gradually increase in size, incorporating all the available data. This allows you to calculate statistics that consider the entire history of the data up to each time point.\n",
    "\n",
    "Expanding windows are useful when you want to track the cumulative effect of a statistic over time or when you want to compare the current value with the historical values. They provide a broader perspective on the overall trend and behavior of the data."
   ]
  },
  {
   "cell_type": "markdown",
   "id": "421e8de5",
   "metadata": {},
   "source": [
    "### Expanding object\n",
    "The `.expanding()` method follows a similar interface to the `.rolling()` method and returns an expanding object.\n",
    "\n",
    "Since these calculations are a special case of rolling statistics, they are implemented in Pandas. Therefore, the following two calls are equivalent:"
   ]
  },
  {
   "cell_type": "code",
   "execution_count": 128,
   "id": "494d51c6",
   "metadata": {},
   "outputs": [
    {
     "data": {
      "text/html": [
       "<div>\n",
       "<style scoped>\n",
       "    .dataframe tbody tr th:only-of-type {\n",
       "        vertical-align: middle;\n",
       "    }\n",
       "\n",
       "    .dataframe tbody tr th {\n",
       "        vertical-align: top;\n",
       "    }\n",
       "\n",
       "    .dataframe thead th {\n",
       "        text-align: right;\n",
       "    }\n",
       "</style>\n",
       "<table border=\"1\" class=\"dataframe\">\n",
       "  <thead>\n",
       "    <tr style=\"text-align: right;\">\n",
       "      <th></th>\n",
       "      <th>A</th>\n",
       "      <th>B</th>\n",
       "      <th>C</th>\n",
       "      <th>D</th>\n",
       "    </tr>\n",
       "  </thead>\n",
       "  <tbody>\n",
       "    <tr>\n",
       "      <th>2023-01-01</th>\n",
       "      <td>-1.582208</td>\n",
       "      <td>-1.620190</td>\n",
       "      <td>0.046562</td>\n",
       "      <td>-1.679829</td>\n",
       "    </tr>\n",
       "    <tr>\n",
       "      <th>2023-01-02</th>\n",
       "      <td>-0.186316</td>\n",
       "      <td>-2.465162</td>\n",
       "      <td>0.860569</td>\n",
       "      <td>-1.729571</td>\n",
       "    </tr>\n",
       "    <tr>\n",
       "      <th>2023-01-03</th>\n",
       "      <td>0.347931</td>\n",
       "      <td>-3.272171</td>\n",
       "      <td>1.702210</td>\n",
       "      <td>-2.287744</td>\n",
       "    </tr>\n",
       "    <tr>\n",
       "      <th>2023-01-04</th>\n",
       "      <td>-0.281226</td>\n",
       "      <td>-2.094504</td>\n",
       "      <td>0.857129</td>\n",
       "      <td>-2.569183</td>\n",
       "    </tr>\n",
       "    <tr>\n",
       "      <th>2023-01-05</th>\n",
       "      <td>1.438731</td>\n",
       "      <td>-3.172003</td>\n",
       "      <td>-0.521153</td>\n",
       "      <td>-2.864327</td>\n",
       "    </tr>\n",
       "    <tr>\n",
       "      <th>...</th>\n",
       "      <td>...</td>\n",
       "      <td>...</td>\n",
       "      <td>...</td>\n",
       "      <td>...</td>\n",
       "    </tr>\n",
       "    <tr>\n",
       "      <th>2025-09-22</th>\n",
       "      <td>18.609221</td>\n",
       "      <td>-3.545389</td>\n",
       "      <td>-9.438823</td>\n",
       "      <td>100.147704</td>\n",
       "    </tr>\n",
       "    <tr>\n",
       "      <th>2025-09-23</th>\n",
       "      <td>16.967721</td>\n",
       "      <td>-3.270230</td>\n",
       "      <td>-9.363745</td>\n",
       "      <td>101.509326</td>\n",
       "    </tr>\n",
       "    <tr>\n",
       "      <th>2025-09-24</th>\n",
       "      <td>15.871460</td>\n",
       "      <td>-4.371879</td>\n",
       "      <td>-9.805958</td>\n",
       "      <td>100.158863</td>\n",
       "    </tr>\n",
       "    <tr>\n",
       "      <th>2025-09-25</th>\n",
       "      <td>16.056352</td>\n",
       "      <td>-3.529039</td>\n",
       "      <td>-10.793556</td>\n",
       "      <td>99.565986</td>\n",
       "    </tr>\n",
       "    <tr>\n",
       "      <th>2025-09-26</th>\n",
       "      <td>16.765286</td>\n",
       "      <td>-1.920215</td>\n",
       "      <td>-8.798274</td>\n",
       "      <td>99.599255</td>\n",
       "    </tr>\n",
       "  </tbody>\n",
       "</table>\n",
       "<p>1000 rows × 4 columns</p>\n",
       "</div>"
      ],
      "text/plain": [
       "                    A         B          C           D\n",
       "2023-01-01  -1.582208 -1.620190   0.046562   -1.679829\n",
       "2023-01-02  -0.186316 -2.465162   0.860569   -1.729571\n",
       "2023-01-03   0.347931 -3.272171   1.702210   -2.287744\n",
       "2023-01-04  -0.281226 -2.094504   0.857129   -2.569183\n",
       "2023-01-05   1.438731 -3.172003  -0.521153   -2.864327\n",
       "...               ...       ...        ...         ...\n",
       "2025-09-22  18.609221 -3.545389  -9.438823  100.147704\n",
       "2025-09-23  16.967721 -3.270230  -9.363745  101.509326\n",
       "2025-09-24  15.871460 -4.371879  -9.805958  100.158863\n",
       "2025-09-25  16.056352 -3.529039 -10.793556   99.565986\n",
       "2025-09-26  16.765286 -1.920215  -8.798274   99.599255\n",
       "\n",
       "[1000 rows x 4 columns]"
      ]
     },
     "execution_count": 128,
     "metadata": {},
     "output_type": "execute_result"
    }
   ],
   "source": [
    "df"
   ]
  },
  {
   "cell_type": "code",
   "execution_count": 129,
   "id": "6709fce5",
   "metadata": {},
   "outputs": [
    {
     "data": {
      "text/html": [
       "<div>\n",
       "<style scoped>\n",
       "    .dataframe tbody tr th:only-of-type {\n",
       "        vertical-align: middle;\n",
       "    }\n",
       "\n",
       "    .dataframe tbody tr th {\n",
       "        vertical-align: top;\n",
       "    }\n",
       "\n",
       "    .dataframe thead th {\n",
       "        text-align: right;\n",
       "    }\n",
       "</style>\n",
       "<table border=\"1\" class=\"dataframe\">\n",
       "  <thead>\n",
       "    <tr style=\"text-align: right;\">\n",
       "      <th></th>\n",
       "      <th>A</th>\n",
       "      <th>B</th>\n",
       "      <th>C</th>\n",
       "      <th>D</th>\n",
       "    </tr>\n",
       "  </thead>\n",
       "  <tbody>\n",
       "    <tr>\n",
       "      <th>2023-01-01</th>\n",
       "      <td>-1.582208</td>\n",
       "      <td>-1.620190</td>\n",
       "      <td>0.046562</td>\n",
       "      <td>-1.679829</td>\n",
       "    </tr>\n",
       "    <tr>\n",
       "      <th>2023-01-02</th>\n",
       "      <td>-0.884262</td>\n",
       "      <td>-2.042676</td>\n",
       "      <td>0.453565</td>\n",
       "      <td>-1.704700</td>\n",
       "    </tr>\n",
       "    <tr>\n",
       "      <th>2023-01-03</th>\n",
       "      <td>-0.473531</td>\n",
       "      <td>-2.452508</td>\n",
       "      <td>0.869780</td>\n",
       "      <td>-1.899048</td>\n",
       "    </tr>\n",
       "    <tr>\n",
       "      <th>2023-01-04</th>\n",
       "      <td>-0.425455</td>\n",
       "      <td>-2.363007</td>\n",
       "      <td>0.866617</td>\n",
       "      <td>-2.066582</td>\n",
       "    </tr>\n",
       "    <tr>\n",
       "      <th>2023-01-05</th>\n",
       "      <td>-0.052618</td>\n",
       "      <td>-2.524806</td>\n",
       "      <td>0.589063</td>\n",
       "      <td>-2.226131</td>\n",
       "    </tr>\n",
       "  </tbody>\n",
       "</table>\n",
       "</div>"
      ],
      "text/plain": [
       "                   A         B         C         D\n",
       "2023-01-01 -1.582208 -1.620190  0.046562 -1.679829\n",
       "2023-01-02 -0.884262 -2.042676  0.453565 -1.704700\n",
       "2023-01-03 -0.473531 -2.452508  0.869780 -1.899048\n",
       "2023-01-04 -0.425455 -2.363007  0.866617 -2.066582\n",
       "2023-01-05 -0.052618 -2.524806  0.589063 -2.226131"
      ]
     },
     "execution_count": 129,
     "metadata": {},
     "output_type": "execute_result"
    }
   ],
   "source": [
    "#  specify the minimum number of non-null observations by min_periods\n",
    "df.rolling(window = len(df), min_periods = 1).mean()[:5]"
   ]
  },
  {
   "cell_type": "code",
   "execution_count": 130,
   "id": "a947e902",
   "metadata": {},
   "outputs": [
    {
     "data": {
      "text/html": [
       "<div>\n",
       "<style scoped>\n",
       "    .dataframe tbody tr th:only-of-type {\n",
       "        vertical-align: middle;\n",
       "    }\n",
       "\n",
       "    .dataframe tbody tr th {\n",
       "        vertical-align: top;\n",
       "    }\n",
       "\n",
       "    .dataframe thead th {\n",
       "        text-align: right;\n",
       "    }\n",
       "</style>\n",
       "<table border=\"1\" class=\"dataframe\">\n",
       "  <thead>\n",
       "    <tr style=\"text-align: right;\">\n",
       "      <th></th>\n",
       "      <th>A</th>\n",
       "      <th>B</th>\n",
       "      <th>C</th>\n",
       "      <th>D</th>\n",
       "    </tr>\n",
       "  </thead>\n",
       "  <tbody>\n",
       "    <tr>\n",
       "      <th>2023-01-01</th>\n",
       "      <td>-1.582208</td>\n",
       "      <td>-1.620190</td>\n",
       "      <td>0.046562</td>\n",
       "      <td>-1.679829</td>\n",
       "    </tr>\n",
       "    <tr>\n",
       "      <th>2023-01-02</th>\n",
       "      <td>-0.884262</td>\n",
       "      <td>-2.042676</td>\n",
       "      <td>0.453565</td>\n",
       "      <td>-1.704700</td>\n",
       "    </tr>\n",
       "    <tr>\n",
       "      <th>2023-01-03</th>\n",
       "      <td>-0.473531</td>\n",
       "      <td>-2.452508</td>\n",
       "      <td>0.869780</td>\n",
       "      <td>-1.899048</td>\n",
       "    </tr>\n",
       "    <tr>\n",
       "      <th>2023-01-04</th>\n",
       "      <td>-0.425455</td>\n",
       "      <td>-2.363007</td>\n",
       "      <td>0.866617</td>\n",
       "      <td>-2.066582</td>\n",
       "    </tr>\n",
       "    <tr>\n",
       "      <th>2023-01-05</th>\n",
       "      <td>-0.052618</td>\n",
       "      <td>-2.524806</td>\n",
       "      <td>0.589063</td>\n",
       "      <td>-2.226131</td>\n",
       "    </tr>\n",
       "  </tbody>\n",
       "</table>\n",
       "</div>"
      ],
      "text/plain": [
       "                   A         B         C         D\n",
       "2023-01-01 -1.582208 -1.620190  0.046562 -1.679829\n",
       "2023-01-02 -0.884262 -2.042676  0.453565 -1.704700\n",
       "2023-01-03 -0.473531 -2.452508  0.869780 -1.899048\n",
       "2023-01-04 -0.425455 -2.363007  0.866617 -2.066582\n",
       "2023-01-05 -0.052618 -2.524806  0.589063 -2.226131"
      ]
     },
     "execution_count": 130,
     "metadata": {},
     "output_type": "execute_result"
    }
   ],
   "source": [
    "df.expanding(min_periods = 1).mean()[:5]"
   ]
  },
  {
   "cell_type": "markdown",
   "id": "f15cbea7",
   "metadata": {},
   "source": [
    "### Statistical method\n",
    "| Method     | Description                                      |\n",
    "|------------|--------------------------------------------------|\n",
    "| count()    | Number of non-null observations                  |\n",
    "| sum()      | Sum of values                                    |\n",
    "| mean()     | Mean of values                                   |\n",
    "| median()   | Arithmetic median of values                       |\n",
    "| min()      | Minimum                                          |\n",
    "| max()      | Maximum                                          |\n",
    "| std()      | Bessel-corrected sample standard deviation       |\n",
    "| var()      | Unbiased variance                                |\n",
    "| skew()     | Sample skewness (3rd moment)                      |\n",
    "| kurt()     | Sample kurtosis (4th moment)                      |\n",
    "| quantile() | Sample quantile (value at %)                      |\n",
    "| apply()    | Generic apply                                    |\n",
    "| cov()      | Unbiased covariance (binary)                      |\n",
    "| corr()     | Correlation (binary)                              |\n"
   ]
  },
  {
   "cell_type": "markdown",
   "id": "616b1095",
   "metadata": {},
   "source": [
    "### Special methods of expanding\n",
    "* `cumsum()` computes the cumulative sum of values.\n",
    "* `cumprod()` computes the cumulative product of values.\n",
    "* `cummax()` computes the cumulative maximum of values.\n",
    "* `cummin()` computes the cumulative minimum of values."
   ]
  },
  {
   "cell_type": "code",
   "execution_count": 131,
   "id": "52d49c1a",
   "metadata": {},
   "outputs": [
    {
     "data": {
      "text/plain": [
       "2023-01-01    0.471435\n",
       "2023-01-02   -0.248105\n",
       "2023-01-03    0.465061\n",
       "2023-01-04    0.865576\n",
       "2023-01-05    0.545501\n",
       "Freq: D, dtype: float64"
      ]
     },
     "execution_count": 131,
     "metadata": {},
     "output_type": "execute_result"
    }
   ],
   "source": [
    "s.cumsum().head()"
   ]
  },
  {
   "cell_type": "code",
   "execution_count": 132,
   "id": "b0298bef",
   "metadata": {},
   "outputs": [
    {
     "data": {
      "text/plain": [
       "2023-01-01    0.471435\n",
       "2023-01-02    0.471435\n",
       "2023-01-03    0.713166\n",
       "2023-01-04    0.713166\n",
       "2023-01-05    0.713166\n",
       "Freq: D, dtype: float64"
      ]
     },
     "execution_count": 132,
     "metadata": {},
     "output_type": "execute_result"
    }
   ],
   "source": [
    "s.cummax().head()"
   ]
  },
  {
   "cell_type": "markdown",
   "id": "60495719",
   "metadata": {},
   "source": [
    "* `shift()` shifts the values of a series or dataframe along the index without changing the index itself. It can be used to create lags or leads in the data.\n",
    "\n",
    "* `diff()` calculates the difference between consecutive elements in a series or dataframe. The periods parameter specifies the number of periods to shift by, and it can be negative to indicate shifts in the opposite direction.\n",
    "\n",
    "* `pct_change()` calculates the percentage change between consecutive elements in a series or dataframe. Similar to `diff()`, it also accepts the periods parameter to specify the number of periods to shift by."
   ]
  },
  {
   "cell_type": "code",
   "execution_count": 133,
   "id": "4d70ed92",
   "metadata": {},
   "outputs": [
    {
     "data": {
      "text/plain": [
       "2023-01-01         NaN\n",
       "2023-01-02         NaN\n",
       "2023-01-03    0.471435\n",
       "2023-01-04   -0.719541\n",
       "2023-01-05    0.713166\n",
       "Freq: D, dtype: float64"
      ]
     },
     "execution_count": 133,
     "metadata": {},
     "output_type": "execute_result"
    }
   ],
   "source": [
    "s.shift(2).head()"
   ]
  },
  {
   "cell_type": "code",
   "execution_count": 134,
   "id": "e5ad0f43",
   "metadata": {},
   "outputs": [
    {
     "data": {
      "text/plain": [
       "2023-01-01         NaN\n",
       "2023-01-02         NaN\n",
       "2023-01-03         NaN\n",
       "2023-01-04   -0.070921\n",
       "2023-01-05    0.399466\n",
       "Freq: D, dtype: float64"
      ]
     },
     "execution_count": 134,
     "metadata": {},
     "output_type": "execute_result"
    }
   ],
   "source": [
    "s.diff(3).head()"
   ]
  },
  {
   "cell_type": "code",
   "execution_count": 135,
   "id": "358b1d66",
   "metadata": {},
   "outputs": [
    {
     "data": {
      "text/plain": [
       "2023-01-01         NaN\n",
       "2023-01-02         NaN\n",
       "2023-01-03         NaN\n",
       "2023-01-04   -0.150436\n",
       "2023-01-05   -0.555169\n",
       "Freq: D, dtype: float64"
      ]
     },
     "execution_count": 135,
     "metadata": {},
     "output_type": "execute_result"
    }
   ],
   "source": [
    "s.pct_change(3).head()"
   ]
  },
  {
   "cell_type": "code",
   "execution_count": null,
   "id": "789ab576",
   "metadata": {},
   "outputs": [],
   "source": []
  }
 ],
 "metadata": {
  "kernelspec": {
   "display_name": "Python 3 (ipykernel)",
   "language": "python",
   "name": "python3"
  },
  "language_info": {
   "codemirror_mode": {
    "name": "ipython",
    "version": 3
   },
   "file_extension": ".py",
   "mimetype": "text/x-python",
   "name": "python",
   "nbconvert_exporter": "python",
   "pygments_lexer": "ipython3",
   "version": "3.10.7"
  },
  "toc": {
   "base_numbering": 1,
   "nav_menu": {},
   "number_sections": true,
   "sideBar": true,
   "skip_h1_title": false,
   "title_cell": "Table of Contents",
   "title_sidebar": "Contents",
   "toc_cell": false,
   "toc_position": {
    "height": "calc(100% - 180px)",
    "left": "10px",
    "top": "150px",
    "width": "406.875px"
   },
   "toc_section_display": true,
   "toc_window_display": true
  }
 },
 "nbformat": 4,
 "nbformat_minor": 5
}
